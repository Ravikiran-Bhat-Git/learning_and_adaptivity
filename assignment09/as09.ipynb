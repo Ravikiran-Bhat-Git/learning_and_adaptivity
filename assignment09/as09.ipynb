{
 "cells": [
  {
   "cell_type": "markdown",
   "metadata": {},
   "source": [
    "We will explore the use of Reinforcement Learning for a very simple problem: the k-armed bandits. Use the python tools of your preference (TensorFlow, scikit-learn, numpy, pandas, etc).\n",
    "\n",
    "1.- Implement a simulation of the k-armed bandits environment, with a variable value of k (should be configurable) and random p_i probabilities to obtain a reward of 0 or 1 from pulling each machine. The probabilities should be different each time you instance the environment.\n",
    "\n",
    "2.- Build an algorithm that implements one of the exploration strategies and run it for a specified amount of time on k=10 armed bandits. Gather the obtained rewards and use them to train a supervised model that estimates the value of pulling each of the k machines.\n",
    "\n",
    "3.- Using the learned model, estimate a policy for the environment and execute it on the same environment (with the same probabilities). Report the obtained results.\n",
    "\n",
    "4.- Repeat parts 2 and 3, but now automate it with code and vary k from 10 to 1000 in steps of 10/50 as appropriate (depending on computation availability), and report the if increasing the value of k makes the problem \"harder\", using several metrics like the normalized reward (total reward / k) or the number of times the algorithm fails to converge and produces bad results, or if the algorithm learns sub-optimal policies. For statistical stability, you might repeat each instance of using a value of k multiple times, with different probabilities in each run.\n",
    "\n",
    "5.- Repeat part 4 but now interleave policy learning for a certain number of iterations, and then exploiting that policy during exploration in order to improve the model (like Q-Learning does). Does this actually improve the model, or it leads to premature convergence to a sub-optimal policy? Compare your results with the ones obtained in part 4.\n",
    "\n",
    "6.- Comment on the failure cases and sub-optimal policies that you have observed during your experimentations.Remember that I expect a good report of results, not just concentrating on the code, but also on scientific analysis of your results and explanations. Remember to put labels in plot axes and legends.\n"
   ]
  },
  {
   "cell_type": "code",
   "execution_count": 1,
   "metadata": {},
   "outputs": [
    {
     "name": "stderr",
     "output_type": "stream",
     "text": [
      "/home/emwe/anaconda3/lib/python3.6/site-packages/h5py/__init__.py:36: FutureWarning: Conversion of the second argument of issubdtype from `float` to `np.floating` is deprecated. In future, it will be treated as `np.float64 == np.dtype(float).type`.\n",
      "  from ._conv import register_converters as _register_converters\n"
     ]
    }
   ],
   "source": [
    "import tensorflow as tf\n",
    "import tensorflow.contrib.slim as slim\n",
    "import numpy as np\n",
    "import matplotlib.pyplot as plt\n",
    "%matplotlib inline"
   ]
  },
  {
   "cell_type": "code",
   "execution_count": 2,
   "metadata": {},
   "outputs": [],
   "source": [
    "#Define our bandits\n",
    "class kArmedBandits(object):\n",
    "    \n",
    "    #initialize the number of bandits and the optimal action randomly\n",
    "    def initialize_bandits(self, num_bandits, num_actions):\n",
    "        self.bandits = np.random.randn(num_bandits, num_actions)\n",
    "        self.num_bandits = num_bandits\n",
    "        self.num_actions = num_actions\n",
    "    \n",
    "    #choose bandit, get it randomly from the available ones\n",
    "    def get_bandit(self):\n",
    "        self.state = np.random.randint(0,len(self.bandits))\n",
    "        return self.state\n",
    "    \n",
    "    #pull the arm, given action and return the reward\n",
    "    def pull_arm(self, action):\n",
    "        bandit = self.bandits[self.state, action]\n",
    "        reward = self.get_reward(bandit)\n",
    "        \n",
    "        return reward\n",
    "        \n",
    "    def get_reward(self, bandit):\n",
    "        random_numb = np.random.randn(1)\n",
    "        if random_numb > bandit:\n",
    "            return 1\n",
    "        else:\n",
    "            return 0\n",
    "    \n",
    "    #define the model (policy gradient which is the learned weights)\n",
    "    #compute the reward and determine the action, and feed them into network\n",
    "    #then compute the loss and update the network\n",
    "    def set_policy_gradient(self):\n",
    "        l_rate = 0.001\n",
    "        state_size = self.num_bandits\n",
    "        action_size = self.num_actions\n",
    "        \n",
    "        #self.weights = tf.trainable_variables()[0]\n",
    "        self.state_in= tf.placeholder(shape=[1],dtype=tf.int32)\n",
    "        state_in_OH = slim.one_hot_encoding(self.state_in, state_size)\n",
    "        output = slim.fully_connected(state_in_OH, action_size,\\\n",
    "                    biases_initializer=None, activation_fn=tf.nn.sigmoid,\n",
    "                    weights_initializer=tf.ones_initializer())\n",
    "        self.output = tf.reshape(output,[-1])\n",
    "        self.chosen_action = tf.argmax(self.output,0)\n",
    "\n",
    "        #Feed the reward and the chosen action into the NN\n",
    "        #Compute the loss and update the model\n",
    "        self.reward_holder = tf.placeholder(shape=[1],dtype=tf.float32)\n",
    "        self.action_holder = tf.placeholder(shape=[1],dtype=tf.int32)\n",
    "        self.responsible_weight = tf.slice(self.output,self.action_holder,[1])\n",
    "        self.loss = -(tf.log(self.responsible_weight)*self.reward_holder)\n",
    "        optimizer = tf.train.GradientDescentOptimizer(learning_rate=l_rate)\n",
    "        self.update = optimizer.minimize(self.loss)\n",
    "    \n",
    "    def train(self, epsilon_greedy, num_episodes, exploitation=False):\n",
    "        tf.reset_default_graph()\n",
    "        \n",
    "        self.set_policy_gradient()\n",
    "        weights = tf.trainable_variables()[0]\n",
    "        total_reward = np.zeros([self.num_bandits, self.num_actions])\n",
    "        \n",
    "        init = tf.initialize_all_variables()\n",
    "        \n",
    "        self.avg_rewards = []\n",
    "        \n",
    "        with tf.Session() as sess:\n",
    "            sess.run(init)\n",
    "            for i in range(num_episodes):\n",
    "                #Get the current state\n",
    "                curr_state = self.get_bandit()\n",
    "\n",
    "                #Choose either a random action or one from our network.\n",
    "                if exploitation:                    \n",
    "                    if np.random.rand(1) < epsilon_greedy:\n",
    "                        action = np.random.randint(self.num_actions)\n",
    "                    else:\n",
    "                        action = sess.run(self.chosen_action, feed_dict={self.state_in:[curr_state]})\n",
    "                else:\n",
    "                    action = np.random.randint(self.num_actions)\n",
    "                \n",
    "                #get reward given action\n",
    "                reward = self.pull_arm(action)\n",
    "\n",
    "                #update the model or network\n",
    "                feed_dict={self.reward_holder:[reward], self.action_holder:[action], self.state_in:[curr_state]}\n",
    "                _, self.weight_update = sess.run([self.update,weights], feed_dict=feed_dict)\n",
    "\n",
    "                #Update our running tally of scores.\n",
    "                total_reward[curr_state, action] += reward\n",
    "                \n",
    "                if i % 100 == 0:\n",
    "                    self.avg_rewards.append(np.mean(total_reward, axis=1))\n",
    "        \n",
    "        listof_true = 0\n",
    "        listof_false = 0\n",
    "        for a in range(self.num_bandits):\n",
    "            #does the weight correspond to the min bandit action\n",
    "            if np.argmax(self.weight_update[a]) == np.argmin(self.bandits[a]):\n",
    "                listof_true += 1\n",
    "            else:\n",
    "                listof_false += 1\n",
    "    "
   ]
  },
  {
   "cell_type": "code",
   "execution_count": 3,
   "metadata": {},
   "outputs": [
    {
     "name": "stdout",
     "output_type": "stream",
     "text": [
      "WARNING:tensorflow:From /home/emwe/anaconda3/lib/python3.6/site-packages/tensorflow/python/util/tf_should_use.py:118: initialize_all_variables (from tensorflow.python.ops.variables) is deprecated and will be removed after 2017-03-02.\n",
      "Instructions for updating:\n",
      "Use `tf.global_variables_initializer` instead.\n"
     ]
    },
    {
     "data": {
      "text/plain": [
       "<matplotlib.legend.Legend at 0x7f90040f2b00>"
      ]
     },
     "execution_count": 3,
     "metadata": {},
     "output_type": "execute_result"
    },
    {
     "data": {
      "image/png": "[encoded data removed]",
      "text/plain": [
       "<matplotlib.figure.Figure at 0x7f90061ed5f8>"
      ]
     },
     "metadata": {},
     "output_type": "display_data"
    }
   ],
   "source": [
    "kAB = kArmedBandits()\n",
    "k = 6\n",
    "num_actions = 10\n",
    "kAB.initialize_bandits(k,num_actions)\n",
    "kAB.set_policy_gradient()\n",
    "kAB.train(0.01, 1000, exploitation=True)\n",
    "avg_rewards = np.asarray(kAB.avg_rewards)\n",
    "for i in range(kAB.num_bandits):\n",
    "    plt.plot(avg_rewards[:,i], label=str(i))\n",
    "#plt.label(\"Average rewards for each k\")\n",
    "plt.legend()"
   ]
  },
  {
   "cell_type": "code",
   "execution_count": null,
   "metadata": {},
   "outputs": [],
   "source": []
  },
  {
   "cell_type": "code",
   "execution_count": null,
   "metadata": {},
   "outputs": [],
   "source": []
  },
  {
   "cell_type": "code",
   "execution_count": null,
   "metadata": {},
   "outputs": [],
   "source": []
  },
  {
   "cell_type": "code",
   "execution_count": null,
   "metadata": {},
   "outputs": [],
   "source": []
  }
 ],
 "metadata": {
  "kernelspec": {
   "display_name": "Python [conda root]",
   "language": "python",
   "name": "conda-root-py"
  },
  "language_info": {
   "codemirror_mode": {
    "name": "ipython",
    "version": 3
   },
   "file_extension": ".py",
   "mimetype": "text/x-python",
   "name": "python",
   "nbconvert_exporter": "python",
   "pygments_lexer": "ipython3",
   "version": "3.6.4"
  }
 },
 "nbformat": 4,
 "nbformat_minor": 2
}
