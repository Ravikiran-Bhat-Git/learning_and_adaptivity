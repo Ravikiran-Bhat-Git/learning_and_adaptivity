{
 "cells": [
  {
   "cell_type": "code",
   "execution_count": 2,
   "metadata": {
    "collapsed": true
   },
   "outputs": [],
   "source": [
    "import numpy as np\n",
    "import matplotlib.pyplot as plt\n",
    "import random"
   ]
  },
  {
   "cell_type": "code",
   "execution_count": 156,
   "metadata": {},
   "outputs": [
    {
     "name": "stdout",
     "output_type": "stream",
     "text": [
      "update Q\n",
      "[0.5        0.         0.         0.94285714 0.         0.\n",
      " 0.6        0.         0.         0.25      ]\n",
      "action update  [ 2  2  2 70  1  1 15  2  1  4]\n",
      "track actions  [7, 4, 9, 6, 6, 6, 6, 6, 9, 6, 6, 6, 6, 6, 6, 6, 6, 6, 3, 3, 3, 9, 3, 3, 3, 5, 3, 7, 3, 3, 3, 3, 3, 3, 3, 3, 3, 0, 0, 3, 3, 3, 3, 3, 2, 3, 3, 3, 9, 3, 3, 3, 3, 3, 3, 3, 3, 3, 3, 3, 3, 3, 3, 3, 3, 3, 3, 3, 3, 3, 3, 6, 3, 3, 3, 3, 3, 3, 3, 3, 3, 3, 2, 3, 3, 1, 3, 3, 3, 3, 3, 8, 3, 3, 3, 3, 1, 3, 3, 3]\n",
      "track rewards  [0, 0, 0, 0, 1, 1, 1, 0, 0, 1, 1, 1, 1, 1, 1, 0, 0, 0, 1, 1, 0, 0, 1, 1, 1, 0, 1, 0, 1, 1, 1, 1, 1, 1, 1, 1, 1, 1, 0, 1, 1, 1, 1, 1, 0, 1, 0, 1, 1, 1, 1, 1, 1, 1, 1, 1, 0, 1, 1, 1, 1, 1, 0, 1, 1, 1, 1, 1, 1, 1, 1, 0, 1, 1, 1, 1, 1, 1, 1, 1, 1, 1, 0, 1, 1, 0, 1, 1, 1, 1, 1, 0, 1, 1, 1, 1, 0, 1, 1, 1]\n"
     ]
    }
   ],
   "source": [
    "\n",
    "class multiArmBandits:\n",
    "    \n",
    "    def __init__(self, N, episodes):\n",
    "        \n",
    "        self.N = N # total bandits \n",
    "        self.episodes = episodes\n",
    "        self.epsilon = 0.1 # epislon greedy, 10% explore 90% exploitation\n",
    "        self.bandits_probs = [round(random.random(),2) for i in range(self.N)]\n",
    "        self.k = np.zeros(self.N, dtype=np.int)  # number of times action was chosen\n",
    "        self.Q = np.zeros(self.N, dtype=np.float)  # estimated value\n",
    "\n",
    "    # Generate bandits probability\n",
    "    def generate_bandits_prob(self):\n",
    "        \n",
    "        bandits = [round(random.random(),2) for i in range(self.N)]\n",
    "        return bandits\n",
    "        \n",
    "    def get_reward(self, action):\n",
    "        \n",
    "        rand = random.random()\n",
    "        reward = 1 if (rand < self.bandits_probs[action]) else 0\n",
    "        return reward\n",
    "    \n",
    "    def choose_action(self, force_explore=False):\n",
    "        \n",
    "        rand = random.random()\n",
    "        # 10% we choose to explore\n",
    "        if (rand < self.epsilon) or force_explore:\n",
    "            action_explore = random.randint(0, self.N-1) \n",
    "            return action_explore\n",
    "        else:\n",
    "            # choose action with maximum reward, called as greedy action\n",
    "            action_greedy = np.random.choice(np.flatnonzero(self.Q == self.Q.max()))\n",
    "            return action_greedy        \n",
    "        \n",
    "    def update_Q(self, action, reward):\n",
    "        \n",
    "        self.k[action] += 1\n",
    "        self.Q[action] += ((reward - self.Q[action])/self.k[action])\n",
    "        \n",
    "        \n",
    "    '''\n",
    "        1. Choose action based on epsilon greedy\n",
    "        2. Get reward based on that action\n",
    "        3. Update action value estimate\n",
    "    '''\n",
    "    \n",
    "    def main(self):\n",
    "        \n",
    "        track_actions = []\n",
    "        track_rewards = []\n",
    "        \n",
    "        reward_history_avg = np.zeros(self.episodes)  # reward history experiment-averaged\n",
    "        action_history_sum = np.zeros((self.episodes, self.N))  # sum action history\n",
    "        \n",
    "        for i in range(self.episodes):\n",
    "            \n",
    "            action = self.choose_action()\n",
    "            reward = self.get_reward(action)\n",
    "            self.update_Q(action, reward)\n",
    "            track_actions.append(action)\n",
    "            track_rewards.append(reward)\n",
    "           \n",
    "        print \"update Q\"\n",
    "        print self.Q\n",
    "        print \"action update \", self.k\n",
    "        print \"track actions \", track_actions\n",
    "        print \"track rewards \", track_rewards\n",
    "            \n",
    "\n",
    "N = 10\n",
    "episodes = 100\n",
    "k_armBandits = multiArmBandits(k, episodes)\n",
    "k_armBandits.main()"
   ]
  }
 ],
 "metadata": {
  "kernelspec": {
   "display_name": "Python 2",
   "language": "python",
   "name": "python2"
  },
  "language_info": {
   "codemirror_mode": {
    "name": "ipython",
    "version": 2
   },
   "file_extension": ".py",
   "mimetype": "text/x-python",
   "name": "python",
   "nbconvert_exporter": "python",
   "pygments_lexer": "ipython2",
   "version": "2.7.14"
  }
 },
 "nbformat": 4,
 "nbformat_minor": 2
}
