{
  "nbformat": 4,
  "nbformat_minor": 0,
  "metadata": {
    "colab": {
      "name": "as07.ipynb",
      "version": "0.3.2",
      "views": {},
      "default_view": {},
      "provenance": []
    },
    "kernelspec": {
      "display_name": "Python [conda env:tensorflow]",
      "language": "python",
      "name": "conda-env-tensorflow-py"
    }
  },
  "cells": [
    {
      "metadata": {
        "id": "-BuR7u9tH56h",
        "colab_type": "code",
        "colab": {
          "autoexec": {
            "startup": false,
            "wait_interval": 0
          }
        }
      },
      "cell_type": "code",
      "source": [
        "import tensorflow as tf\n",
        "from sklearn.linear_model import LinearRegression, LogisticRegression\n",
        "from sklearn.ensemble import RandomForestClassifier\n",
        "from sklearn.metrics import log_loss\n",
        "import numpy as np\n",
        "import pickle\n",
        "from sklearn.externals import joblib\n",
        "import matplotlib.pyplot as plt\n",
        "%matplotlib inline"
      ],
      "execution_count": 0,
      "outputs": []
    },
    {
      "metadata": {
        "id": "EVV1JutaS6DM",
        "colab_type": "code",
        "colab": {
          "autoexec": {
            "startup": false,
            "wait_interval": 0
          },
          "base_uri": "https://localhost:8080/",
          "height": 89
        },
        "outputId": "d1af6bb3-eb9c-438c-b979-ba03393000e5",
        "executionInfo": {
          "status": "ok",
          "timestamp": 1528560335883,
          "user_tz": -120,
          "elapsed": 4613,
          "user": {
            "displayName": "Ramesh Kumar",
            "photoUrl": "https://lh3.googleusercontent.com/a/default-user=s128",
            "userId": "117392819357210483671"
          }
        }
      },
      "cell_type": "code",
      "source": [
        "!git clone https://gist.github.com/dc7e60aa487430ea704a8cb3f2c5d6a6.git /tmp/colab_util_repo\n",
        "!mv /tmp/colab_util_repo/colab_util.py colab_util.py \n",
        "!rm -r /tmp/colab_util_repo"
      ],
      "execution_count": 73,
      "outputs": [
        {
          "output_type": "stream",
          "text": [
            "Cloning into '/tmp/colab_util_repo'...\n",
            "remote: Counting objects: 40, done.\u001b[K\n",
            "remote: Total 40 (delta 0), reused 0 (delta 0), pack-reused 40\u001b[K\n",
            "Unpacking objects: 100% (40/40), done.\n"
          ],
          "name": "stdout"
        }
      ]
    },
    {
      "metadata": {
        "id": "QRkxJ4kNH56p",
        "colab_type": "code",
        "colab": {
          "autoexec": {
            "startup": false,
            "wait_interval": 0
          },
          "base_uri": "https://localhost:8080/",
          "height": 161
        },
        "outputId": "9a7db1d4-b9fe-4c91-c013-4b331c0fa262",
        "executionInfo": {
          "status": "ok",
          "timestamp": 1528559463635,
          "user_tz": -120,
          "elapsed": 1295,
          "user": {
            "displayName": "Ramesh Kumar",
            "photoUrl": "https://lh3.googleusercontent.com/a/default-user=s128",
            "userId": "117392819357210483671"
          }
        }
      },
      "cell_type": "code",
      "source": [
        "#Load MNIST data from tf\n",
        "from tensorflow.examples.tutorials.mnist import input_data\n",
        "mnist = input_data.read_data_sets(\"MNIST_data/\", one_hot=False)\n",
        "mnist_one_hot = input_data.read_data_sets(\"MNIST_data/\", one_hot=True)"
      ],
      "execution_count": 46,
      "outputs": [
        {
          "output_type": "stream",
          "text": [
            "Extracting MNIST_data/train-images-idx3-ubyte.gz\n",
            "Extracting MNIST_data/train-labels-idx1-ubyte.gz\n",
            "Extracting MNIST_data/t10k-images-idx3-ubyte.gz\n",
            "Extracting MNIST_data/t10k-labels-idx1-ubyte.gz\n",
            "Extracting MNIST_data/train-images-idx3-ubyte.gz\n",
            "Extracting MNIST_data/train-labels-idx1-ubyte.gz\n",
            "Extracting MNIST_data/t10k-images-idx3-ubyte.gz\n",
            "Extracting MNIST_data/t10k-labels-idx1-ubyte.gz\n"
          ],
          "name": "stdout"
        }
      ]
    },
    {
      "metadata": {
        "id": "YEV01LcAH565",
        "colab_type": "code",
        "colab": {
          "autoexec": {
            "startup": false,
            "wait_interval": 0
          }
        }
      },
      "cell_type": "code",
      "source": [
        "def plot_img(image, index):\n",
        "    f, ax = plt.subplots(1, len(index))\n",
        "    for i in range(len(index)):\n",
        "        ax[i].imshow(np.reshape(image[index[i]], (28,28)), cmap='Greys')\n",
        "        ax[i].set_yticklabels([])\n",
        "        ax[i].set_xticklabels([])\n",
        "    plt.show()"
      ],
      "execution_count": 0,
      "outputs": []
    },
    {
      "metadata": {
        "id": "3jNsJ_B3H57B",
        "colab_type": "code",
        "colab": {
          "autoexec": {
            "startup": false,
            "wait_interval": 0
          }
        }
      },
      "cell_type": "code",
      "source": [
        "class mnistTwoClassifiers(object):\n",
        "    def __init__(self):\n",
        "        self.step = 100\n",
        "    \n",
        "    def update_datasets(self, train_images, train_labels, test_images, test_labels):\n",
        "        self.train_images = train_images\n",
        "        self.train_labels = train_labels\n",
        "        self.test_images = test_images\n",
        "        self.test_labels = test_labels\n",
        "    \n",
        "    def logistic_regression(self, train_size):\n",
        "        self.logistic_model = LogisticRegression()\n",
        "        %time self.logistic_model.fit(self.train_images[:train_size], self.train_labels[:train_size])\n",
        "        return self.logistic_model\n",
        "    \n",
        "    def random_forest(self, train_size):\n",
        "        self.random_forest_model = RandomForestClassifier()\n",
        "        %time self.random_forest_model.fit(self.train_images[:train_size], self.train_labels[:train_size])\n",
        "        return self.random_forest_model\n",
        "    \n",
        "    def generate_adversarial_example(self, num_of_samples, clf, epsilon, test_images, test_labels):\n",
        "\n",
        "      \n",
        "        adv_samples = np.zeros((num_of_samples, 784))\n",
        "        adv_true_samples = np.zeros((num_of_samples, 1))\n",
        "                                    \n",
        "        for i in range(num_of_samples):\n",
        "            y_predict = None\n",
        "            if clf == \"logistic_regression\":\n",
        "                y_predict = self.logistic_model.predict_proba(test_images[i:i+1])\n",
        "            elif clf == \"random_forest\":\n",
        "                y_predict = self.random_forest_model.predict_proba(test_images[i:i+1])\n",
        "        \n",
        "            y_true = test_labels[i:i+1]\n",
        "            y_true_index = np.where(y_true == 1)[1][0]\n",
        "            predictions = y_predict\n",
        "            error = (predictions - y_true)**(2)\n",
        "            error = error[0][y_true_index]\n",
        "            #gradient = np.dot(train_images[i:i+1].T, error)\n",
        "            gradient = error * train_images[i:i+1]\n",
        "            #print(gradient)\n",
        "            gradient /= len(train_images[i:i+1])\n",
        "            #gradient = gradient\n",
        "            #print(gradient.shape)\n",
        "            tf_gradient = tf.cast(gradient, tf.float32)\n",
        "            signs = tf.sign(tf_gradient)\n",
        "            eps = tf.constant(epsilon)\n",
        "            img_adversarial = tf.add(tf.multiply(eps, signs), test_images[i:i+1])\n",
        "            img_adversarial = tf.Session().run(img_adversarial)\n",
        "            #plot_img(img_adversarial, [y_true_index, y_true_index])\n",
        "            #dv_samples.append(img_adversarial)\n",
        "            adv_samples[i] = img_adversarial\n",
        "            adv_true_samples[i] = y_true_index\n",
        "\n",
        "#         adv_samples = np.asarray(adv_samples)\n",
        "        return adv_samples, adv_true_samples\n",
        "        \n",
        "    def test(self, test_size, classifier):\n",
        "        if classifier == \"logistic_regression\":\n",
        "            print(self.logistic_model.score(self.test_images[:test_size], self.test_labels[:test_size]))\n",
        "        elif classifier == \"random_forest\":\n",
        "            print(self.random_forest_model.score(self.test_images[:test_size], self.test_labels[:test_size]))\n",
        "            \n",
        "    def predict(self, model, test_images, test_size):\n",
        "        return model.predict(test_images[:test_size])\n",
        "    \n",
        "    def test_with_adversarial(self, model, adv_example):\n",
        "        return model.predict(adv_example)\n",
        "        "
      ],
      "execution_count": 0,
      "outputs": []
    },
    {
      "metadata": {
        "id": "Yn_wsbWAH57I",
        "colab_type": "code",
        "colab": {
          "autoexec": {
            "startup": false,
            "wait_interval": 0
          }
        }
      },
      "cell_type": "code",
      "source": [
        "train_images = mnist.train.images\n",
        "train_labels = mnist.train.labels\n",
        "test_images = mnist.test.images\n",
        "test_labels = mnist.test.labels\n",
        "test_labels_one_hot = mnist_one_hot.test.labels\n",
        "test_images_one_hot = mnist_one_hot.test.images\n",
        "two_clfs = mnistTwoClassifiers()\n",
        "two_clfs.update_datasets(train_images, train_labels, test_images, test_labels)"
      ],
      "execution_count": 0,
      "outputs": []
    },
    {
      "metadata": {
        "id": "AOHSgo4WH57O",
        "colab_type": "code",
        "colab": {
          "autoexec": {
            "startup": false,
            "wait_interval": 0
          },
          "base_uri": "https://localhost:8080/",
          "height": 89
        },
        "outputId": "65bfc9e7-3353-402e-e8bc-017cb8370ad6",
        "executionInfo": {
          "status": "ok",
          "timestamp": 1528559747982,
          "user_tz": -120,
          "elapsed": 483,
          "user": {
            "displayName": "Ramesh Kumar",
            "photoUrl": "https://lh3.googleusercontent.com/a/default-user=s128",
            "userId": "117392819357210483671"
          }
        }
      },
      "cell_type": "code",
      "source": [
        "#train the models\n",
        "logistic_model = two_clfs.logistic_regression(100)\n",
        "random_forest_model = two_clfs.random_forest(100)\n",
        "clf_logistic = two_clfs.logistic_model\n",
        "clf_random_forest = two_clfs.random_forest_model"
      ],
      "execution_count": 62,
      "outputs": [
        {
          "output_type": "stream",
          "text": [
            "CPU times: user 19 ms, sys: 2 ms, total: 21 ms\n",
            "Wall time: 25.8 ms\n",
            "CPU times: user 22 ms, sys: 0 ns, total: 22 ms\n",
            "Wall time: 21 ms\n"
          ],
          "name": "stdout"
        }
      ]
    },
    {
      "metadata": {
        "id": "VH6Jq3FyH57X",
        "colab_type": "code",
        "colab": {
          "autoexec": {
            "startup": false,
            "wait_interval": 0
          },
          "base_uri": "https://localhost:8080/",
          "height": 53
        },
        "outputId": "2c44d1b7-31c3-436e-822e-fd61b595df04",
        "executionInfo": {
          "status": "ok",
          "timestamp": 1528559749053,
          "user_tz": -120,
          "elapsed": 457,
          "user": {
            "displayName": "Ramesh Kumar",
            "photoUrl": "https://lh3.googleusercontent.com/a/default-user=s128",
            "userId": "117392819357210483671"
          }
        }
      },
      "cell_type": "code",
      "source": [
        "#test the model\n",
        "two_clfs.test(100, \"logistic_regression\")\n",
        "two_clfs.test(100, \"random_forest\")"
      ],
      "execution_count": 63,
      "outputs": [
        {
          "output_type": "stream",
          "text": [
            "0.71\n",
            "0.61\n"
          ],
          "name": "stdout"
        }
      ]
    },
    {
      "metadata": {
        "id": "IgE7-_yjH57d",
        "colab_type": "code",
        "colab": {
          "autoexec": {
            "startup": false,
            "wait_interval": 0
          }
        }
      },
      "cell_type": "code",
      "source": [
        "#Use test dataset\n",
        "num_adv_example = 1000\n",
        "epsilon = 0.007\n",
        "adv_imgs_logistic, logic_labels = two_clfs.generate_adversarial_example(num_adv_example, \"logistic_regression\", \\\n",
        "                                                 epsilon, test_images_one_hot, test_labels_one_hot)\n",
        "adv_imgs_rnd_forest, forest_labels = two_clfs.generate_adversarial_example(num_adv_example, \"random_forest\", \\\n",
        "                                                 epsilon, test_images_one_hot, test_labels_one_hot)"
      ],
      "execution_count": 0,
      "outputs": []
    },
    {
      "metadata": {
        "id": "P-ng7NszWZaZ",
        "colab_type": "code",
        "colab": {
          "autoexec": {
            "startup": false,
            "wait_interval": 0
          }
        }
      },
      "cell_type": "code",
      "source": [
        "!mkdir -p numpyfiles"
      ],
      "execution_count": 0,
      "outputs": []
    },
    {
      "metadata": {
        "id": "UrIjhxF8YXAh",
        "colab_type": "code",
        "colab": {
          "autoexec": {
            "startup": false,
            "wait_interval": 0
          },
          "base_uri": "https://localhost:8080/",
          "height": 35
        },
        "outputId": "da4e757b-adf5-4184-8ad3-37f8ac85b02f",
        "executionInfo": {
          "status": "ok",
          "timestamp": 1528561778453,
          "user_tz": -120,
          "elapsed": 488,
          "user": {
            "displayName": "Ramesh Kumar",
            "photoUrl": "https://lh3.googleusercontent.com/a/default-user=s128",
            "userId": "117392819357210483671"
          }
        }
      },
      "cell_type": "code",
      "source": [
        "cd numpyfiles"
      ],
      "execution_count": 89,
      "outputs": [
        {
          "output_type": "stream",
          "text": [
            "/content/numpyfiles\n"
          ],
          "name": "stdout"
        }
      ]
    },
    {
      "metadata": {
        "id": "pJLlQECvQBFK",
        "colab_type": "code",
        "colab": {
          "autoexec": {
            "startup": false,
            "wait_interval": 0
          }
        }
      },
      "cell_type": "code",
      "source": [
        "np.save(\"log_adv_images1To2000\", adv_imgs_logistic)\n",
        "np.save(\"log_adv_labels1To2000\", logic_labels)\n",
        "np.save(\"forest_adv_images1To2000\", adv_imgs_rnd_forest)\n",
        "np.save(\"forest_adv_labels1To2000\", forest_labels)\n",
        "\n",
        "# logic_labels"
      ],
      "execution_count": 0,
      "outputs": []
    },
    {
      "metadata": {
        "id": "MQaWfRfZH57i",
        "colab_type": "code",
        "colab": {
          "autoexec": {
            "startup": false,
            "wait_interval": 0
          },
          "base_uri": "https://localhost:8080/",
          "height": 35
        },
        "outputId": "8928f396-166e-4d97-ad22-e23b03bcfb2c",
        "executionInfo": {
          "status": "ok",
          "timestamp": 1528560485657,
          "user_tz": -120,
          "elapsed": 474,
          "user": {
            "displayName": "Ramesh Kumar",
            "photoUrl": "https://lh3.googleusercontent.com/a/default-user=s128",
            "userId": "117392819357210483671"
          }
        }
      },
      "cell_type": "code",
      "source": [
        "adv_imgs_logistic.shape"
      ],
      "execution_count": 83,
      "outputs": [
        {
          "output_type": "execute_result",
          "data": {
            "text/plain": [
              "(100, 784)"
            ]
          },
          "metadata": {
            "tags": []
          },
          "execution_count": 83
        }
      ]
    },
    {
      "metadata": {
        "id": "kvO87WFiSiGU",
        "colab_type": "code",
        "colab": {
          "autoexec": {
            "startup": false,
            "wait_interval": 0
          }
        }
      },
      "cell_type": "code",
      "source": [
        "# labels = np.load('logistics.npy')"
      ],
      "execution_count": 0,
      "outputs": []
    },
    {
      "metadata": {
        "id": "X-nHlVyeH57p",
        "colab_type": "code",
        "colab": {
          "autoexec": {
            "startup": false,
            "wait_interval": 0
          },
          "base_uri": "https://localhost:8080/",
          "height": 35
        },
        "outputId": "33480444-0045-4f63-f879-e19629b6fac5",
        "executionInfo": {
          "status": "ok",
          "timestamp": 1528558180166,
          "user_tz": -120,
          "elapsed": 375,
          "user": {
            "displayName": "Ramesh Kumar",
            "photoUrl": "https://lh3.googleusercontent.com/a/default-user=s128",
            "userId": "117392819357210483671"
          }
        }
      },
      "cell_type": "code",
      "source": [
        "#Feed adversarial example from logistic to random forest\n",
        "#clf_random_forest.predict(adv_imgs_logistic)\n",
        "clf_random_forest.score(adv_imgs_logistic, test_labels[:num_adv_example])"
      ],
      "execution_count": 21,
      "outputs": [
        {
          "output_type": "execute_result",
          "data": {
            "text/plain": [
              "0.42"
            ]
          },
          "metadata": {
            "tags": []
          },
          "execution_count": 21
        }
      ]
    },
    {
      "metadata": {
        "id": "q7dZZbUuH57w",
        "colab_type": "code",
        "colab": {
          "autoexec": {
            "startup": false,
            "wait_interval": 0
          },
          "base_uri": "https://localhost:8080/",
          "height": 35
        },
        "outputId": "b3a8a40e-b450-4edb-f4c5-8e7e6527e246",
        "executionInfo": {
          "status": "ok",
          "timestamp": 1528558182238,
          "user_tz": -120,
          "elapsed": 486,
          "user": {
            "displayName": "Ramesh Kumar",
            "photoUrl": "https://lh3.googleusercontent.com/a/default-user=s128",
            "userId": "117392819357210483671"
          }
        }
      },
      "cell_type": "code",
      "source": [
        "#Feed adversarial example from random forest to logistic model\n",
        "clf_logistic.score(adv_imgs_rnd_forest, test_labels[:num_adv_example])"
      ],
      "execution_count": 22,
      "outputs": [
        {
          "output_type": "execute_result",
          "data": {
            "text/plain": [
              "0.83"
            ]
          },
          "metadata": {
            "tags": []
          },
          "execution_count": 22
        }
      ]
    },
    {
      "metadata": {
        "id": "J0-Psh9YH572",
        "colab_type": "text"
      },
      "cell_type": "markdown",
      "source": [
        "# Generate 55000 adversarial examples"
      ]
    },
    {
      "metadata": {
        "id": "gqkd85MlH574",
        "colab_type": "code",
        "colab": {
          "autoexec": {
            "startup": false,
            "wait_interval": 0
          }
        }
      },
      "cell_type": "code",
      "source": [
        "#Use test dataset\n",
        "num_adv_example = 50\n",
        "epsilon = 0.25\n",
        "adv_images_logistic = two_clfs.generate_adversarial_example(num_adv_example, \"logistic_regression\", \\\n",
        "                                                 epsilon, test_images_one_hot, test_labels_one_hot)\n",
        "adv_images_rnd_forest = two_clfs.generate_adversarial_example(num_adv_example, \"random_forest\", \\\n",
        "                                                 epsilon, test_images_one_hot, test_labels_one_hot)"
      ],
      "execution_count": 0,
      "outputs": []
    },
    {
      "metadata": {
        "id": "qieuC6tqH58B",
        "colab_type": "code",
        "colab": {
          "autoexec": {
            "startup": false,
            "wait_interval": 0
          }
        }
      },
      "cell_type": "code",
      "source": [
        ""
      ],
      "execution_count": 0,
      "outputs": []
    },
    {
      "metadata": {
        "id": "PWVteT8YH58G",
        "colab_type": "code",
        "colab": {
          "autoexec": {
            "startup": false,
            "wait_interval": 0
          }
        }
      },
      "cell_type": "code",
      "source": [
        ""
      ],
      "execution_count": 0,
      "outputs": []
    },
    {
      "metadata": {
        "id": "LxU2qmCzH58M",
        "colab_type": "code",
        "colab": {
          "autoexec": {
            "startup": false,
            "wait_interval": 0
          }
        }
      },
      "cell_type": "code",
      "source": [
        ""
      ],
      "execution_count": 0,
      "outputs": []
    },
    {
      "metadata": {
        "id": "DGmIMZdJH58R",
        "colab_type": "code",
        "colab": {
          "autoexec": {
            "startup": false,
            "wait_interval": 0
          }
        },
        "outputId": "e7f9be2c-7224-4887-eebc-7d7eebe18433"
      },
      "cell_type": "code",
      "source": [
        "#Save classifier to pickle file\n",
        "joblib.dump(clf_logistic, '/tmp/logistic_regression.pkl') \n",
        "joblib.dump(clf_random_forest, '/tmp/random_forest_model.pkl')"
      ],
      "execution_count": 0,
      "outputs": [
        {
          "output_type": "execute_result",
          "data": {
            "text/plain": [
              "['/tmp/random_forest_model.pkl']"
            ]
          },
          "metadata": {
            "tags": []
          },
          "execution_count": 43
        }
      ]
    },
    {
      "metadata": {
        "id": "pbg_2DtzH58b",
        "colab_type": "code",
        "colab": {
          "autoexec": {
            "startup": false,
            "wait_interval": 0
          }
        }
      },
      "cell_type": "code",
      "source": [
        "#Load classifier\n",
        "logistic_clf = joblib.load('/tmp/logistic_regression.pkl')\n",
        "random_forest_clf = joblib.load('/tmp/random_forest_model.pkl')"
      ],
      "execution_count": 0,
      "outputs": []
    }
  ]
}