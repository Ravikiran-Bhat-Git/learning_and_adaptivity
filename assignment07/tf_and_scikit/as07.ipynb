{
 "cells": [
  {
   "cell_type": "code",
   "execution_count": 1,
   "metadata": {},
   "outputs": [],
   "source": [
    "import tensorflow as tf\n",
    "from sklearn.linear_model import LinearRegression, LogisticRegression\n",
    "from sklearn.ensemble import RandomForestClassifier\n",
    "from sklearn.metrics import log_loss\n",
    "import numpy as np\n",
    "import pickle\n",
    "from sklearn.externals import joblib\n",
    "import matplotlib.pyplot as plt\n",
    "%matplotlib inline"
   ]
  },
  {
   "cell_type": "code",
   "execution_count": 3,
   "metadata": {},
   "outputs": [
    {
     "name": "stdout",
     "output_type": "stream",
     "text": [
      "Extracting MNIST_data/train-images-idx3-ubyte.gz\n",
      "Extracting MNIST_data/train-labels-idx1-ubyte.gz\n",
      "Extracting MNIST_data/t10k-images-idx3-ubyte.gz\n",
      "Extracting MNIST_data/t10k-labels-idx1-ubyte.gz\n",
      "Extracting MNIST_data/train-images-idx3-ubyte.gz\n",
      "Extracting MNIST_data/train-labels-idx1-ubyte.gz\n",
      "Extracting MNIST_data/t10k-images-idx3-ubyte.gz\n",
      "Extracting MNIST_data/t10k-labels-idx1-ubyte.gz\n"
     ]
    }
   ],
   "source": [
    "#Load MNIST data from tf\n",
    "from tensorflow.examples.tutorials.mnist import input_data\n",
    "mnist = input_data.read_data_sets(\"MNIST_data/\", one_hot=False)\n",
    "mnist_one_hot = input_data.read_data_sets(\"MNIST_data/\", one_hot=True)"
   ]
  },
  {
   "cell_type": "code",
   "execution_count": 4,
   "metadata": {},
   "outputs": [],
   "source": [
    "def plot_img(image, index):\n",
    "    f, ax = plt.subplots(1, len(index))\n",
    "    for i in range(len(index)):\n",
    "        ax[i].imshow(np.reshape(image[index[i]], (28,28)), cmap='Greys')\n",
    "        ax[i].set_yticklabels([])\n",
    "        ax[i].set_xticklabels([])\n",
    "    plt.show()"
   ]
  },
  {
   "cell_type": "code",
   "execution_count": 89,
   "metadata": {},
   "outputs": [],
   "source": [
    "class mnistTwoClassifiers(object):\n",
    "    def __init__(self):\n",
    "        self.step = 100\n",
    "    \n",
    "    def update_datasets(self, train_images, train_labels, test_images, test_labels):\n",
    "        self.train_images = train_images\n",
    "        self.train_labels = train_labels\n",
    "        self.test_images = test_images\n",
    "        self.test_labels = test_labels\n",
    "    \n",
    "    def logistic_regression(self, train_size):\n",
    "        self.logistic_model = LogisticRegression()\n",
    "        %time self.logistic_model.fit(self.train_images[:train_size], self.train_labels[:train_size])\n",
    "        return self.logistic_model\n",
    "    \n",
    "    def random_forest(self, train_size):\n",
    "        self.random_forest_model = RandomForestClassifier()\n",
    "        %time self.random_forest_model.fit(self.train_images[:train_size], self.train_labels[:train_size])\n",
    "        return self.random_forest_model\n",
    "    \n",
    "    def generate_adversarial_example(self, num_of_samples, clf, epsilon, test_images, test_labels):\n",
    "        adv_samples = []\n",
    "        for i in range(num_of_samples):\n",
    "            y_predict = None\n",
    "            if clf == \"logistic_regression\":\n",
    "                y_predict = self.logistic_model.predict_proba(test_images[i:i+1])\n",
    "            elif clf == \"random_forest\":\n",
    "                y_predict = self.random_forest_model.predict_proba(test_images[0:1])\n",
    "        \n",
    "            y_true = test_labels[i:i+1]\n",
    "            y_true_index = np.where(y_true == 1)[1][0]\n",
    "            predictions = y_predict\n",
    "            error = (predictions - y_true)**(2)\n",
    "            gradient = np.dot(train_images[i:i+1].T, error)\n",
    "            gradient /= len(train_images[i:i+1])\n",
    "            gradient = gradient.T\n",
    "            tf_gradient = tf.cast(gradient, tf.float32)\n",
    "            signs = tf.sign(tf_gradient)\n",
    "            eps = tf.constant(epsilon)\n",
    "            img_adversarial = tf.add(tf.multiply(eps, signs), test_images[i:i+1])\n",
    "            img_adversarial = tf.Session().run(img_adversarial[y_true_index])\n",
    "            #plot_img(img_adversarial, [y_true_index, y_true_index])\n",
    "            adv_samples.append(img_adversarial)\n",
    "\n",
    "        adv_samples = np.asarray(adv_samples)\n",
    "        return adv_samples\n",
    "        \n",
    "    def test(self, test_size, classifier):\n",
    "        if classifier == \"logistic_regression\":\n",
    "            print(self.logistic_model.score(self.test_images[:test_size], self.test_labels[:test_size]))\n",
    "        elif classifier == \"random_forest\":\n",
    "            print(self.random_forest_model.score(self.test_images[:test_size], self.test_labels[:test_size]))\n",
    "            \n",
    "    def predict(self, model, test_images, test_size):\n",
    "        return model.predict(test_images[:test_size])\n",
    "    \n",
    "    def test_with_adversarial(self, model, adv_example):\n",
    "        return model.predict(adv_example)\n",
    "        "
   ]
  },
  {
   "cell_type": "code",
   "execution_count": 90,
   "metadata": {},
   "outputs": [],
   "source": [
    "train_images = mnist.train.images\n",
    "train_labels = mnist.train.labels\n",
    "test_images = mnist.test.images\n",
    "test_labels = mnist.test.labels\n",
    "test_labels_one_hot = mnist_one_hot.test.labels\n",
    "test_images_one_hot = mnist_one_hot.test.images\n",
    "two_clfs = mnistTwoClassifiers()\n",
    "two_clfs.update_datasets(train_images, train_labels, test_images, test_labels)"
   ]
  },
  {
   "cell_type": "code",
   "execution_count": 91,
   "metadata": {},
   "outputs": [
    {
     "name": "stdout",
     "output_type": "stream",
     "text": [
      "CPU times: user 232 ms, sys: 4 ms, total: 236 ms\n",
      "Wall time: 234 ms\n",
      "CPU times: user 40 ms, sys: 0 ns, total: 40 ms\n",
      "Wall time: 37.7 ms\n"
     ]
    }
   ],
   "source": [
    "#train the models\n",
    "logistic_model = two_clfs.logistic_regression(1000)\n",
    "random_forest_model = two_clfs.random_forest(1000)\n",
    "clf_logistic = two_clfs.logistic_model\n",
    "clf_random_forest = two_clfs.random_forest_model"
   ]
  },
  {
   "cell_type": "code",
   "execution_count": 92,
   "metadata": {},
   "outputs": [
    {
     "name": "stdout",
     "output_type": "stream",
     "text": [
      "0.87\n",
      "0.83\n"
     ]
    }
   ],
   "source": [
    "#test the model\n",
    "two_clfs.test(100, \"logistic_regression\")\n",
    "two_clfs.test(100, \"random_forest\")"
   ]
  },
  {
   "cell_type": "code",
   "execution_count": 96,
   "metadata": {},
   "outputs": [],
   "source": [
    "#Use test dataset\n",
    "num_adv_example = 100\n",
    "epsilon = 0.25\n",
    "adv_imgs_logistic = two_clfs.generate_adversarial_example(num_adv_example, \"logistic_regression\", \\\n",
    "                                                 epsilon, test_images_one_hot, test_labels_one_hot)\n",
    "adv_imgs_rnd_forest = two_clfs.generate_adversarial_example(num_adv_example, \"random_forest\", \\\n",
    "                                                 epsilon, test_images_one_hot, test_labels_one_hot)"
   ]
  },
  {
   "cell_type": "code",
   "execution_count": 97,
   "metadata": {},
   "outputs": [
    {
     "data": {
      "text/plain": [
       "0.39"
      ]
     },
     "execution_count": 97,
     "metadata": {},
     "output_type": "execute_result"
    }
   ],
   "source": [
    "#Feed adversarial example from logistic to random forest\n",
    "#clf_random_forest.predict(adv_imgs_logistic)\n",
    "clf_random_forest.score(adv_imgs_logistic, test_labels[:num_adv_example])"
   ]
  },
  {
   "cell_type": "code",
   "execution_count": 98,
   "metadata": {},
   "outputs": [
    {
     "data": {
      "text/plain": [
       "0.77"
      ]
     },
     "execution_count": 98,
     "metadata": {},
     "output_type": "execute_result"
    }
   ],
   "source": [
    "#Feed adversarial example from random forest to logistic model\n",
    "clf_logistic.score(adv_imgs_rnd_forest, test_labels[:num_adv_example])"
   ]
  },
  {
   "cell_type": "markdown",
   "metadata": {},
   "source": [
    "# Generate 55000 adversarial examples"
   ]
  },
  {
   "cell_type": "code",
   "execution_count": null,
   "metadata": {},
   "outputs": [],
   "source": [
    "#Use test dataset\n",
    "num_adv_example = 55000\n",
    "epsilon = 0.25\n",
    "adv_images_logistic = two_clfs.generate_adversarial_example(num_adv_example, \"logistic_regression\", \\\n",
    "                                                 epsilon, test_images_one_hot, test_labels_one_hot)\n",
    "adv_images_rnd_forest = two_clfs.generate_adversarial_example(num_adv_example, \"random_forest\", \\\n",
    "                                                 epsilon, test_images_one_hot, test_labels_one_hot)"
   ]
  },
  {
   "cell_type": "code",
   "execution_count": null,
   "metadata": {},
   "outputs": [],
   "source": []
  },
  {
   "cell_type": "code",
   "execution_count": null,
   "metadata": {},
   "outputs": [],
   "source": []
  },
  {
   "cell_type": "code",
   "execution_count": null,
   "metadata": {},
   "outputs": [],
   "source": []
  },
  {
   "cell_type": "code",
   "execution_count": null,
   "metadata": {},
   "outputs": [],
   "source": [
    "#Save classifier to pickle file\n",
    "joblib.dump(logistic_model, '/tmp/logistic_regression.pkl') \n",
    "joblib.dump(random_forest_model, '/tmp/random_forest_model.pkl')"
   ]
  },
  {
   "cell_type": "code",
   "execution_count": null,
   "metadata": {},
   "outputs": [],
   "source": [
    "#Load classifier\n",
    "logistic_clf = joblib.load('/tmp/logistic_regression.pkl')\n",
    "random_forest_clf = joblib.load('/tmp/random_forest_model.pkl')"
   ]
  }
 ],
 "metadata": {
  "kernelspec": {
   "display_name": "Python [conda env:tensorflow]",
   "language": "python",
   "name": "conda-env-tensorflow-py"
  },
  "language_info": {
   "codemirror_mode": {
    "name": "ipython",
    "version": 3
   },
   "file_extension": ".py",
   "mimetype": "text/x-python",
   "name": "python",
   "nbconvert_exporter": "python",
   "pygments_lexer": "ipython3",
   "version": "3.6.2"
  }
 },
 "nbformat": 4,
 "nbformat_minor": 2
}
