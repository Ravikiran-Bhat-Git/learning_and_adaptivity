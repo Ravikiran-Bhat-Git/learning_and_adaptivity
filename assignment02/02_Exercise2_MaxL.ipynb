{
 "cells": [
  {
   "cell_type": "markdown",
   "metadata": {},
   "source": [
    "## Task1"
   ]
  },
  {
   "cell_type": "markdown",
   "metadata": {},
   "source": [
    "Implement in Python ( you can use SciPy library) the Maximum Likelihood Estimator to estimate the parameters for example mean and variance of some data.\n",
    "Your steps are:\n",
    "* Create a data set: \n",
    "    - Set x-values for example: *x = np.linspace(0, 100, num=100)*, \n",
    "    - Set observed y-values using a known slope (1.4), intercept (4), and sd (3), for example       *y = 4 + 1.4x + np.random.normal(0, 3, 100)*\n",
    "* Create a likelihood function which arguments is a list of initial parameters\n",
    "* Test this function on various data sets \n",
    "(Hint: you can use minimize from scipy.optimize and scipy.stats to compute the negative log-likelihood)"
   ]
  },
  {
   "cell_type": "code",
   "execution_count": 1,
<<<<<<< Updated upstream
   "metadata": {
    "collapsed": true
   },
=======
   "metadata": {},
>>>>>>> Stashed changes
   "outputs": [],
   "source": [
    "import numpy as np\n",
    "from scipy.optimize import minimize\n",
    "import scipy.stats as stats\n",
    "import time\n"
   ]
  },
  {
   "cell_type": "code",
<<<<<<< Updated upstream
   "execution_count": 4,
   "metadata": {
    "collapsed": false
   },
=======
   "execution_count": 6,
   "metadata": {},
>>>>>>> Stashed changes
   "outputs": [
    {
     "name": "stdout",
     "output_type": "stream",
     "text": [
<<<<<<< Updated upstream
      "[ 4.83456266  1.38373351  2.78984616]\n"
=======
      "74.39858011275787\n",
      "41.516926054165324\n",
      "[3.41183468 1.41973423 3.16492088]\n"
>>>>>>> Stashed changes
     ]
    }
   ],
   "source": [
    "x = np.linspace(0, 100, num=100)\n",
    "y = 4 + 1.4*x + np.random.normal(0, 3, 100)\n",
    "\n",
<<<<<<< Updated upstream
    "def regressLL(params):\n",
    "    b0 = params[0]\n",
    "    b1 = params[1]\n",
    "    std_deviation = params[2]\n",
    "    \n",
    "    y_prediction = b0 + b1*x\n",
    "\n",
    "    neg_log_likelihood = -np.sum( stats.norm.logpdf(y, \n",
    "                                                loc=y_prediction, \n",
    "                                                scale=std_deviation) )\n",
    "    \n",
    "    return(neg_log_likelihood)\n",
    "\n",
    "initParams = [1, 1, 1]\n",
    "\n",
    "results = minimize(regressLL, initParams, method='nelder-mead')\n",
=======
    "print y.mean()\n",
    "print y.std()\n",
    "\n",
    "def likelihood_function(params):\n",
    "    intercept = params[0]\n",
    "    slope = params[1]\n",
    "    predicted_mean = intercept + slope*x\n",
    "    std = params[2]\n",
    "    log_likelihood = -np.sum( stats.norm.logpdf(y, predicted_mean, std) )\n",
    "    return(log_likelihood)\n",
>>>>>>> Stashed changes
    "\n",
    "print results.x"
   ]
  }
 ],
 "metadata": {
  "kernelspec": {
   "display_name": "Python [Root]",
   "language": "python",
   "name": "Python [Root]"
  },
  "language_info": {
   "codemirror_mode": {
    "name": "ipython",
    "version": 2
   },
   "file_extension": ".py",
   "mimetype": "text/x-python",
   "name": "python",
   "nbconvert_exporter": "python",
   "pygments_lexer": "ipython2",
   "version": "2.7.14"
  }
 },
 "nbformat": 4,
 "nbformat_minor": 0
}
