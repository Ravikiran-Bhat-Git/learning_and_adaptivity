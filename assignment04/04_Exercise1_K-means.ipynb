{
 "cells": [
  {
   "cell_type": "markdown",
   "metadata": {},
   "source": [
    "#Task: Image compression with K-means"
   ]
  },
  {
   "cell_type": "markdown",
   "metadata": {},
   "source": [
    "Implement K-Means algorithm and apply it to compress an image \"NAORelease.jpg\" for various K (see slides for details). As a feature vector use RGB-representation of each pixel from the image. \n",
    "<br>\n",
    "Analyse running time, what could you suggest to improve it? \n",
    "Compare your implementation with the existing k-mean algorithm given in python."
   ]
  },
  {
   "cell_type": "code",
   "execution_count": 1,
   "metadata": {},
   "outputs": [
    {
     "data": {
      "image/jpeg": "[encoded data removed]",
      "text/plain": [
       "<IPython.core.display.Image object>"
      ]
     },
     "execution_count": 1,
     "metadata": {},
     "output_type": "execute_result"
    }
   ],
   "source": [
    "from IPython.display import Image\n",
    "Image(filename='NAORelease.jpg')"
   ]
  },
  {
   "cell_type": "code",
   "execution_count": 2,
   "metadata": {},
   "outputs": [],
   "source": [
    "import numpy as np\n",
    "import random\n",
    "import Image"
   ]
  },
  {
   "cell_type": "code",
   "execution_count": 3,
   "metadata": {},
   "outputs": [],
   "source": [
    "class Cluster(object):\n",
    "    def __init__(self):\n",
    "        self.pixels = []\n",
    "        self.centroid = None\n",
    "        \n",
    "    def addPoint(self, pixel):\n",
    "        self.pixels.append(pixel)\n",
    "\n",
    "    def setNewCentroid(self):\n",
    "        R = [colour[0] for colour in self.pixels]\n",
    "        G = [colour[1] for colour in self.pixels]\n",
    "        B = [colour[2] for colour in self.pixels]\n",
    "\n",
    "        R = sum(R) / len(R)\n",
    "        G = sum(G) / len(G)\n",
    "        B = sum(B) / len(B)\n",
    "\n",
    "        self.centroid = (R, G, B)\n",
    "        self.pixels = []\n",
    "\n",
    "        return self.centroid"
   ]
  },
  {
   "cell_type": "code",
   "execution_count": 4,
   "metadata": {},
   "outputs": [],
   "source": [
    "class Kmeans(object):\n",
    "\n",
    "    def __init__(self, K, max_iterations):\n",
    "        self.K = K\n",
    "        self.max_iterations = max_iterations\n",
    "\n",
    "    def run(self, image):\n",
    "        self.image_size = image.size\n",
    "        self.pixels = np.array(image.getdata(), dtype=np.uint8)\n",
    "        self.clustered_pixels = [None] * len(image.getdata())\n",
    "        self.clusters = []\n",
    "        \n",
    "        #pick random centroid for each K\n",
    "        randomCentroids = random.sample(self.pixels, self.K)\n",
    "        \n",
    "        for idx in range(self.K):\n",
    "            self.clusters.append(Cluster())\n",
    "            self.clusters[idx].centroid = randomCentroids[idx]\n",
    "\n",
    "        iteration = 0\n",
    "        while iteration < self.max_iterations:\n",
    "            for idx, pixel in enumerate(self.pixels):\n",
    "                self.assignClusters(idx, pixel)\n",
    "            \n",
    "            for cluster in self.clusters:\n",
    "                cluster.setNewCentroid()\n",
    "                \n",
    "            iteration += 1\n",
    "        \n",
    "        return\n",
    "\n",
    "    def assignClusters(self, idx, pixel):\n",
    "        shortest_distance = float('Inf')\n",
    "        for cluster in self.clusters:\n",
    "            curr_distance = self.calcDistance(cluster.centroid, pixel)\n",
    "            if curr_distance < shortest_distance:\n",
    "                shortest_distance = curr_distance\n",
    "                nearest = cluster\n",
    "                \n",
    "        nearest.addPoint(pixel)\n",
    "        self.clustered_pixels[idx] = nearest.centroid\n",
    "    \n",
    "    #distance is calculated by taking sum abs diff from each pixel (RGB)\n",
    "    #then normalize it\n",
    "    def calcDistance(self, a, b):\n",
    "        result = (sum(abs(a-b)))/3.0\n",
    "        return result\n",
    "    \n",
    "    #show clustered_pixels\n",
    "    def showClusteredPixels(self):\n",
    "        w, h = self.image_size\n",
    "        self.clustered_pixels = np.asarray(self.clustered_pixels).astype('uint8').reshape((h, w, 3))\n",
    "        colourMap = Image.fromarray(self.clustered_pixels)\n",
    "        colourMap.show()"
   ]
  },
  {
   "cell_type": "code",
   "execution_count": 9,
   "metadata": {},
   "outputs": [],
   "source": [
    "k_means = Kmeans(50, 30)\n",
    "img = Image.open(\"NAORelease.jpg\")\n",
    "k_means.run(img)"
   ]
  },
  {
   "cell_type": "code",
   "execution_count": 10,
   "metadata": {},
   "outputs": [],
   "source": [
    "k_means.showClusteredPixels()"
   ]
  },
  {
   "cell_type": "code",
   "execution_count": null,
   "metadata": {},
   "outputs": [],
   "source": []
  },
  {
   "cell_type": "code",
   "execution_count": null,
   "metadata": {},
   "outputs": [],
   "source": []
  }
 ],
 "metadata": {
  "kernelspec": {
   "display_name": "Python 2",
   "language": "python",
   "name": "python2"
  },
  "language_info": {
   "codemirror_mode": {
    "name": "ipython",
    "version": 2
   },
   "file_extension": ".py",
   "mimetype": "text/x-python",
   "name": "python",
   "nbconvert_exporter": "python",
   "pygments_lexer": "ipython2",
   "version": "2.7.12"
  }
 },
 "nbformat": 4,
 "nbformat_minor": 1
}
