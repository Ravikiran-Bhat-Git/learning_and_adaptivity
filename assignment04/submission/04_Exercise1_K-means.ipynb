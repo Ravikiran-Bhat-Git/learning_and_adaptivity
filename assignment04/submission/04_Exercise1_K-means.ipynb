{
 "cells": [
  {
   "cell_type": "markdown",
   "metadata": {},
   "source": [
    "# Team Members\n",
    "\n",
    "## RaviKiran Bhat\n",
    "\n",
    "## Rubanraj Ravichandran\n",
    "\n",
    "## Mohammad Wasil\n",
    "\n",
    "## Ramesh Kumar"
   ]
  },
  {
   "cell_type": "markdown",
   "metadata": {},
   "source": [
    "# Task: Image compression with K-means"
   ]
  },
  {
   "cell_type": "markdown",
   "metadata": {},
   "source": [
    "Implement K-Means algorithm and apply it to compress an image \"NAORelease.jpg\" for various K (see slides for details). As a feature vector use RGB-representation of each pixel from the image. \n",
    "<br>\n",
    "Analyse running time, what could you suggest to improve it? \n",
    "Compare your implementation with the existing k-mean algorithm given in python."
   ]
  },
  {
   "cell_type": "code",
   "execution_count": 78,
   "metadata": {},
   "outputs": [
    {
     "data": {
      "image/jpeg": "[encoded data removed]",
      "text/plain": [
       "<IPython.core.display.Image object>"
      ]
     },
     "execution_count": 78,
     "metadata": {},
     "output_type": "execute_result"
    }
   ],
   "source": [
    "from IPython.display import Image\n",
    "Image(filename='NAORelease.jpg')"
   ]
  },
  {
   "cell_type": "code",
   "execution_count": 66,
   "metadata": {
    "collapsed": true
   },
   "outputs": [],
   "source": [
    "import skimage\n",
    "from skimage import io\n",
    "from sklearn.cluster import KMeans\n",
    "import numpy as np\n",
    "import matplotlib.pyplot as plt\n",
    "%matplotlib inline"
   ]
  },
  {
   "cell_type": "markdown",
   "metadata": {},
   "source": [
    "# K-means using Library"
   ]
  },
  {
   "cell_type": "code",
   "execution_count": 67,
   "metadata": {},
   "outputs": [
    {
     "name": "stdout",
     "output_type": "stream",
     "text": [
      "(128, 128, 3)\n"
     ]
    }
   ],
   "source": [
    "def ImageCompression(K, iterations):\n",
    "    \n",
    "    load_image = io.imread('NAORelease.jpg')\n",
    "    image_shape = load_image.shape\n",
    "    rows = image_shape[0]\n",
    "    cols = image_shape[1]\n",
    "    load_image = load_image.reshape(image_shape[0]*image_shape[1],3)\n",
    "\n",
    "    kmeans = KMeans(n_clusters=K, max_iter=iterations).fit(load_image)\n",
    "    \n",
    "    # find clusters\n",
    "    clusters = np.asarray(kmeans.cluster_centers_,dtype=np.uint8) \n",
    "    labels = np.asarray(kmeans.labels_,dtype=np.uint8 )  \n",
    "    labels = labels.reshape(rows,cols)\n",
    "    return clusters, labels"
   ]
  },
  {
   "cell_type": "code",
   "execution_count": 68,
   "metadata": {},
   "outputs": [
    {
     "name": "stdout",
     "output_type": "stream",
     "text": [
      "(128, 128)\n"
     ]
    }
   ],
   "source": [
    "K = 10\n",
    "iterations = 30\n",
    "clusters, labels = ImageCompression(K, iterations)\n",
    "np.save('codebook_robot.npy', clusters)\n",
    "io.imsave('compressed_robot.png',labels)"
   ]
  },
  {
   "cell_type": "code",
   "execution_count": 69,
   "metadata": {},
   "outputs": [],
   "source": [
    "def ImageDecompression(centers, c_image):\n",
    "\n",
    "    image = np.zeros((c_image.shape[0],c_image.shape[1],3),dtype=np.uint8 )\n",
    "    for i in range(c_image.shape[0]):\n",
    "        for j in range(c_image.shape[1]):\n",
    "                image[i,j,:] = centers[c_image[i,j],:]\n",
    "    io.imsave('reconstructed_robot.png',image);\n",
    "    io.imshow(image)\n",
    "    io.show()"
   ]
  },
  {
   "cell_type": "code",
   "execution_count": null,
   "metadata": {},
   "outputs": [],
   "source": [
    "centers = np.load('codebook_robot.npy')\n",
    "c_image = io.imread('compressed_robot.png')\n",
    "ImageDecompression(centers, c_image):"
   ]
  },
  {
   "cell_type": "markdown",
   "metadata": {
    "collapsed": true
   },
   "source": [
    "# K-Means using Algorithm(without Library)"
   ]
  },
  {
   "cell_type": "code",
   "execution_count": 83,
   "metadata": {},
   "outputs": [],
   "source": [
    "\n",
    "class Cluster(object):\n",
    "    def __init__(self):\n",
    "        self.pixels = []\n",
    "        self.centroid = None\n",
    "        \n",
    "    def addPoint(self, pixel):\n",
    "        self.pixels.append(pixel)\n",
    "\n",
    "    def setNewCentroid(self):\n",
    "        R = [colour[0] for colour in self.pixels]\n",
    "        G = [colour[1] for colour in self.pixels]\n",
    "        B = [colour[2] for colour in self.pixels]\n",
    "\n",
    "        R = sum(R) / len(R)\n",
    "        G = sum(G) / len(G)\n",
    "        B = sum(B) / len(B)\n",
    "\n",
    "        self.centroid = (R, G, B)\n",
    "        self.pixels = []\n",
    "\n",
    "        return self.centroid"
   ]
  },
  {
   "cell_type": "code",
   "execution_count": 84,
   "metadata": {
    "collapsed": true
   },
   "outputs": [],
   "source": [
    "class Kmeans(object):\n",
    "\n",
    "    def __init__(self, K, max_iterations):\n",
    "        self.K = K\n",
    "        self.max_iterations = max_iterations\n",
    "\n",
    "    def run(self, image):\n",
    "        self.image_size = image.size\n",
    "        self.pixels = np.array(image.getdata(), dtype=np.uint8)\n",
    "        self.clustered_pixels = [None] * len(image.getdata())\n",
    "        self.clusters = []\n",
    "        \n",
    "        #pick random centroid for each K\n",
    "        randomCentroids = random.sample(self.pixels, self.K)\n",
    "        \n",
    "        for idx in range(self.K):\n",
    "            self.clusters.append(Cluster())\n",
    "            self.clusters[idx].centroid = randomCentroids[idx]\n",
    "\n",
    "        iteration = 0\n",
    "        while iteration < self.max_iterations:\n",
    "            for idx, pixel in enumerate(self.pixels):\n",
    "                self.assignClusters(idx, pixel)\n",
    "            \n",
    "            for cluster in self.clusters:\n",
    "                cluster.setNewCentroid()\n",
    "                \n",
    "            iteration += 1\n",
    "        \n",
    "        return\n",
    "\n",
    "    def assignClusters(self, idx, pixel):\n",
    "        shortest_distance = float('Inf')\n",
    "        for cluster in self.clusters:\n",
    "            curr_distance = self.calcDistance(cluster.centroid, pixel)\n",
    "            if curr_distance < shortest_distance:\n",
    "                shortest_distance = curr_distance\n",
    "                nearest = cluster\n",
    "                \n",
    "        nearest.addPoint(pixel)\n",
    "        self.clustered_pixels[idx] = nearest.centroid\n",
    "    \n",
    "    #distance is calculated by taking sum abs diff from each pixel (RGB)\n",
    "    #then normalize it\n",
    "    def calcDistance(self, a, b):\n",
    "        result = (sum(abs(a-b)))/3.0\n",
    "        return result\n",
    "    \n",
    "    #show clustered_pixels\n",
    "    def showClusteredPixels(self):\n",
    "        w, h = self.image_size\n",
    "        self.clustered_pixels = np.asarray(self.clustered_pixels).astype('uint8').reshape((h, w, 3))\n",
    "        colourMap = Image.fromarray(self.clustered_pixels)\n",
    "        colourMap.show()"
   ]
  },
  {
   "cell_type": "markdown",
   "metadata": {},
   "source": [
    "# K = 10, Max Iterations = 30"
   ]
  },
  {
   "cell_type": "code",
   "execution_count": 86,
   "metadata": {},
   "outputs": [
    {
     "name": "stdout",
     "output_type": "stream",
     "text": [
      "0:01:09.658876\n"
     ]
    }
   ],
   "source": [
    "import random\n",
    "# import Image\n",
    "from PIL import Image\n",
    "from datetime import datetime\n",
    "start=datetime.now()\n",
    "K = 10\n",
    "max_iterations = 30\n",
    "k_means = Kmeans(K, max_iterations)\n",
    "img = Image.open(\"NAORelease.jpg\")\n",
    "k_means.run(img)\n",
    "print datetime.now()-start"
   ]
  },
  {
   "cell_type": "code",
   "execution_count": 47,
   "metadata": {
    "collapsed": true
   },
   "outputs": [],
   "source": [
    "k_means.showClusteredPixels()\n"
   ]
  },
  {
   "cell_type": "code",
   "execution_count": 63,
   "metadata": {},
   "outputs": [
    {
     "data": {
      "image/png": "[encoded data removed]",
      "text/plain": [
       "<IPython.core.display.Image object>"
      ]
     },
     "execution_count": 63,
     "metadata": {},
     "output_type": "execute_result"
    }
   ],
   "source": [
    "Image(filename='kMeans10K.png')"
   ]
  },
  {
   "cell_type": "markdown",
   "metadata": {},
   "source": [
    "# K = 30, Max Iterations = 30"
   ]
  },
  {
   "cell_type": "code",
   "execution_count": 87,
   "metadata": {},
   "outputs": [
    {
     "name": "stdout",
     "output_type": "stream",
     "text": [
      "0:03:16.147051\n"
     ]
    }
   ],
   "source": [
    "start=datetime.now()\n",
    "K = 30\n",
    "max_iterations = 30\n",
    "k_means = Kmeans(K, max_iterations)\n",
    "img = Image.open(\"NAORelease.jpg\")\n",
    "k_means.run(img)\n",
    "print datetime.now()-start"
   ]
  },
  {
   "cell_type": "code",
   "execution_count": 75,
   "metadata": {
    "collapsed": true
   },
   "outputs": [],
   "source": [
    "k_means.showClusteredPixels()\n"
   ]
  },
  {
   "cell_type": "code",
   "execution_count": 81,
   "metadata": {},
   "outputs": [
    {
     "data": {
      "image/png": "[encoded data removed]",
      "text/plain": [
       "<IPython.core.display.Image object>"
      ]
     },
     "execution_count": 81,
     "metadata": {},
     "output_type": "execute_result"
    }
   ],
   "source": [
    "Image(filename='kMeans30K.png')"
   ]
  },
  {
   "cell_type": "markdown",
   "metadata": {},
   "source": [
    "# K = 50, Max Iterations = 30"
   ]
  },
  {
   "cell_type": "code",
   "execution_count": 90,
   "metadata": {},
   "outputs": [
    {
     "name": "stdout",
     "output_type": "stream",
     "text": [
      "0:05:21.823218\n"
     ]
    }
   ],
   "source": [
    "start=datetime.now()\n",
    "K = 50\n",
    "max_iterations = 30\n",
    "k_means = Kmeans(K, max_iterations)\n",
    "img = Image.open(\"NAORelease.jpg\")\n",
    "k_means.run(img)\n",
    "print datetime.now()-start"
   ]
  },
  {
   "cell_type": "code",
   "execution_count": 91,
   "metadata": {
    "collapsed": true
   },
   "outputs": [],
   "source": [
    "k_means.showClusteredPixels()\n"
   ]
  },
  {
   "cell_type": "code",
   "execution_count": 95,
   "metadata": {},
   "outputs": [
    {
     "data": {
      "image/png": "[encoded data removed]",
      "text/plain": [
       "<IPython.core.display.Image object>"
      ]
     },
     "execution_count": 95,
     "metadata": {},
     "output_type": "execute_result"
    }
   ],
   "source": [
    "from IPython.display import Image\n",
    "Image(filename='kMeans50K.png')"
   ]
  },
  {
   "cell_type": "code",
   "execution_count": null,
   "metadata": {
    "collapsed": true
   },
   "outputs": [],
   "source": []
  }
 ],
 "metadata": {
  "kernelspec": {
   "display_name": "Python 2",
   "language": "python",
   "name": "python2"
  },
  "language_info": {
   "codemirror_mode": {
    "name": "ipython",
    "version": 2
   },
   "file_extension": ".py",
   "mimetype": "text/x-python",
   "name": "python",
   "nbconvert_exporter": "python",
   "pygments_lexer": "ipython2",
   "version": "2.7.14"
  }
 },
 "nbformat": 4,
 "nbformat_minor": 1
}
