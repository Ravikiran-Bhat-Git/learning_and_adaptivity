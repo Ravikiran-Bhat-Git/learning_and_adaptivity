{
 "cells": [
  {
   "cell_type": "code",
   "execution_count": 1,
   "metadata": {},
   "outputs": [
    {
     "name": "stderr",
     "output_type": "stream",
     "text": [
      "/home/ruby/anaconda2/lib/python2.7/site-packages/h5py/__init__.py:36: FutureWarning: Conversion of the second argument of issubdtype from `float` to `np.floating` is deprecated. In future, it will be treated as `np.float64 == np.dtype(float).type`.\n",
      "  from ._conv import register_converters as _register_converters\n"
     ]
    }
   ],
   "source": [
    "import tensorflow as tf\n",
    "from sklearn.linear_model import LinearRegression, LogisticRegression\n",
    "from sklearn.ensemble import RandomForestClassifier\n",
    "from sklearn.ensemble import RandomForestRegressor\n",
    "from sklearn.metrics import log_loss\n",
    "import numpy as np\n",
    "import pickle\n",
    "from sklearn.externals import joblib\n",
    "import matplotlib.pyplot as plt\n",
    "%matplotlib inline\n",
    "from sklearn.metrics import explained_variance_score, mean_squared_error"
   ]
  },
  {
   "cell_type": "code",
   "execution_count": 2,
   "metadata": {},
   "outputs": [
    {
     "name": "stdout",
     "output_type": "stream",
     "text": [
      "WARNING:tensorflow:From <ipython-input-2-2720d8fc3cb4>:3: read_data_sets (from tensorflow.contrib.learn.python.learn.datasets.mnist) is deprecated and will be removed in a future version.\n",
      "Instructions for updating:\n",
      "Please use alternatives such as official/mnist/dataset.py from tensorflow/models.\n",
      "WARNING:tensorflow:From /home/ruby/anaconda2/lib/python2.7/site-packages/tensorflow/contrib/learn/python/learn/datasets/mnist.py:260: maybe_download (from tensorflow.contrib.learn.python.learn.datasets.base) is deprecated and will be removed in a future version.\n",
      "Instructions for updating:\n",
      "Please write your own downloading logic.\n",
      "WARNING:tensorflow:From /home/ruby/anaconda2/lib/python2.7/site-packages/tensorflow/contrib/learn/python/learn/datasets/mnist.py:262: extract_images (from tensorflow.contrib.learn.python.learn.datasets.mnist) is deprecated and will be removed in a future version.\n",
      "Instructions for updating:\n",
      "Please use tf.data to implement this functionality.\n",
      "Extracting MNIST_data/train-images-idx3-ubyte.gz\n",
      "WARNING:tensorflow:From /home/ruby/anaconda2/lib/python2.7/site-packages/tensorflow/contrib/learn/python/learn/datasets/mnist.py:267: extract_labels (from tensorflow.contrib.learn.python.learn.datasets.mnist) is deprecated and will be removed in a future version.\n",
      "Instructions for updating:\n",
      "Please use tf.data to implement this functionality.\n",
      "Extracting MNIST_data/train-labels-idx1-ubyte.gz\n",
      "Extracting MNIST_data/t10k-images-idx3-ubyte.gz\n",
      "Extracting MNIST_data/t10k-labels-idx1-ubyte.gz\n",
      "WARNING:tensorflow:From /home/ruby/anaconda2/lib/python2.7/site-packages/tensorflow/contrib/learn/python/learn/datasets/mnist.py:290: __init__ (from tensorflow.contrib.learn.python.learn.datasets.mnist) is deprecated and will be removed in a future version.\n",
      "Instructions for updating:\n",
      "Please use alternatives such as official/mnist/dataset.py from tensorflow/models.\n"
     ]
    }
   ],
   "source": [
    "#Load MNIST data from tf\n",
    "from tensorflow.examples.tutorials.mnist import input_data\n",
    "mnist = input_data.read_data_sets(\"MNIST_data/\", one_hot=False)\n",
    "# mnist_one_hot = input_data.read_data_sets(\"MNIST_data/\", one_hot=True)"
   ]
  },
  {
   "cell_type": "code",
   "execution_count": 5,
   "metadata": {},
   "outputs": [],
   "source": [
    "train_images = mnist.train.images\n",
    "train_labels = mnist.train.labels\n",
    "test_images = mnist.test.images\n",
    "test_labels = mnist.test.labels"
   ]
  },
  {
   "cell_type": "code",
   "execution_count": 6,
   "metadata": {},
   "outputs": [
    {
     "name": "stdout",
     "output_type": "stream",
     "text": [
      "3\n",
      "25\n",
      "77\n",
      "99\n"
     ]
    }
   ],
   "source": [
    "def trainRandomForest(index):\n",
    "    model = RandomForestClassifier(n_estimators=index,n_jobs=4)\n",
    "#     print index\n",
    "#     model.random_state(index)\n",
    "    model.fit(train_images, train_labels)\n",
    "    return model\n",
    "\n",
    "models = {}\n",
    "for i in [3,25,77,99]:\n",
    "    print i\n",
    "    model = trainRandomForest(i)\n",
    "    models[i] = model\n",
    "\n",
    "# joblib.dump(models, 'random_forest_models.pkl')\n",
    "# print models"
   ]
  },
  {
   "cell_type": "code",
   "execution_count": null,
   "metadata": {
    "collapsed": true
   },
   "outputs": [],
   "source": [
    "clf.estimators_[i].predict_proba(np.reshape(test_samples[idx],(1,-1)))[0]"
   ]
  },
  {
   "cell_type": "code",
   "execution_count": 51,
   "metadata": {},
   "outputs": [
    {
     "name": "stdout",
     "output_type": "stream",
     "text": [
      "9\n",
      "[0. 0. 0. 0. 0. 0. 0. 0. 0. 1.]\n",
      "[0. 0. 0. 0. 1. 0. 0. 0. 0. 0.]\n",
      "[0. 0. 0. 0. 0. 1. 0. 0. 0. 0.]\n",
      "[[       -inf        -inf        -inf        -inf -1.09861229 -1.09861229\n",
      "         -inf        -inf        -inf -1.09861229]]\n"
     ]
    },
    {
     "name": "stderr",
     "output_type": "stream",
     "text": [
      "/home/ruby/anaconda2/lib/python2.7/site-packages/sklearn/ensemble/forest.py:623: RuntimeWarning: divide by zero encountered in log\n",
      "  return np.log(proba)\n"
     ]
    }
   ],
   "source": [
    "print test_labels[7]\n",
    "print models[3].estimators_[0].predict_proba(np.reshape(test_images[7],(1,-1)))[0]\n",
    "print models[3].estimators_[1].predict_proba(np.reshape(test_images[7],(1,-1)))[0]\n",
    "print models[3].estimators_[2].predict_proba(np.reshape(test_images[7],(1,-1)))[0]\n",
    "print models[3].predict_log_proba(np.reshape(test_images[7],(1,-1)))"
   ]
  },
  {
   "cell_type": "code",
   "execution_count": 53,
   "metadata": {},
   "outputs": [
    {
     "name": "stdout",
     "output_type": "stream",
     "text": [
      "5\n",
      "[0. 0. 0. 0. 0. 0. 1. 0. 0. 0.]\n",
      "[0. 0. 0. 0. 0. 0. 0. 0. 1. 0.]\n",
      "[0. 0. 0. 0. 1. 0. 0. 0. 0. 0.]\n",
      "[[       -inf        -inf        -inf        -inf -1.09861229        -inf\n",
      "  -1.09861229        -inf -1.09861229        -inf]]\n",
      "[4]\n"
     ]
    }
   ],
   "source": [
    "print test_labels[8]\n",
    "print models[3].estimators_[0].predict_proba(np.reshape(test_images[8],(1,-1)))[0]\n",
    "print models[3].estimators_[1].predict_proba(np.reshape(test_images[8],(1,-1)))[0]\n",
    "print models[3].estimators_[2].predict_proba(np.reshape(test_images[8],(1,-1)))[0]\n",
    "print models[3].predict_log_proba(np.reshape(test_images[8],(1,-1)))\n",
    "print models[3].predict(np.reshape(test_images[8],(1,-1)))"
   ]
  },
  {
   "cell_type": "code",
   "execution_count": 35,
   "metadata": {},
   "outputs": [],
   "source": [
    "def plot_uncertainty(model,test_images,test_labels):\n",
    "    predicted_output = model.predict_proba(test_images)\n",
    "    \n",
    "    zero = np.where(test_labels == 0)[0]\n",
    "    one = np.where(test_labels == 1)[0]\n",
    "    two = np.where(test_labels == 2)[0]\n",
    "    three = np.where(test_labels == 3)[0]\n",
    "    four = np.where(test_labels == 4)[0]\n",
    "    five = np.where(test_labels == 5)[0]\n",
    "    six = np.where(test_labels == 6)[0]\n",
    "    seven = np.where(test_labels == 7)[0]\n",
    "    eight = np.where(test_labels == 8)[0]\n",
    "    nine = np.where(test_labels == 9)[0]\n",
    "    fig, ax = plt.subplots(1,figsize=(8,6))\n",
    "    \n",
    "    ax.hist(predicted_output[zero, 0], histtype='step', label='zero')\n",
    "    ax.hist(predicted_output[one, 1], histtype='step', label='one')\n",
    "    ax.hist(predicted_output[two, 2], histtype='step', label='two')\n",
    "    ax.hist(predicted_output[three, 3], histtype='step', label='three')\n",
    "    ax.hist(predicted_output[four, 4], histtype='step', label='four')\n",
    "    ax.hist(predicted_output[five, 5], histtype='step', label='five')\n",
    "    ax.hist(predicted_output[six, 6], histtype='step', label='six')\n",
    "    ax.hist(predicted_output[seven, 7], histtype='step', label='seven')\n",
    "    ax.hist(predicted_output[eight, 8], histtype='step', label='eight')\n",
    "    ax.hist(predicted_output[nine, 9], histtype='step', label='nine')\n",
    "\n",
    "    ax.legend(loc='upper center', bbox_to_anchor=(0.5, 1.2),\n",
    "              ncol=5, fancybox=True, shadow=True)\n",
    "    \n",
    "    ax.set_xlabel('Prediction (Classes probability)')\n",
    "    ax.set_ylabel('Number of observations')"
   ]
  },
  {
   "cell_type": "code",
   "execution_count": 36,
   "metadata": {},
   "outputs": [
    {
     "data": {
      "image/png": "[encoded data removed]",
      "text/plain": [
       "<matplotlib.figure.Figure at 0x7f4b6d2d0ed0>"
      ]
     },
     "metadata": {},
     "output_type": "display_data"
    }
   ],
   "source": [
    "plot_uncertainty(models[3],test_images,test_labels)"
   ]
  },
  {
   "cell_type": "code",
   "execution_count": 37,
   "metadata": {},
   "outputs": [
    {
     "data": {
      "image/png": "[encoded data removed]",
      "text/plain": [
       "<matplotlib.figure.Figure at 0x7f4b6c8d1190>"
      ]
     },
     "metadata": {},
     "output_type": "display_data"
    }
   ],
   "source": [
    "plot_uncertainty(models[25],test_images,test_labels)"
   ]
  },
  {
   "cell_type": "code",
   "execution_count": 38,
   "metadata": {},
   "outputs": [
    {
     "data": {
      "image/png": "[encoded data removed]",
      "text/plain": [
       "<matplotlib.figure.Figure at 0x7f4b6d3f3250>"
      ]
     },
     "metadata": {},
     "output_type": "display_data"
    }
   ],
   "source": [
    "plot_uncertainty(models[77],test_images,test_labels)"
   ]
  },
  {
   "cell_type": "code",
   "execution_count": 39,
   "metadata": {},
   "outputs": [
    {
     "data": {
      "image/png": "[encoded data removed]",
      "text/plain": [
       "<matplotlib.figure.Figure at 0x7f4b6cf99f50>"
      ]
     },
     "metadata": {},
     "output_type": "display_data"
    }
   ],
   "source": [
    "plot_uncertainty(models[99],test_images,test_labels)"
   ]
  },
  {
   "cell_type": "code",
   "execution_count": 22,
   "metadata": {},
   "outputs": [
    {
     "name": "stdout",
     "output_type": "stream",
     "text": [
      "0.9631\n"
     ]
    }
   ],
   "source": [
    "print models[25].score(test_images,test_labels)"
   ]
  },
  {
   "cell_type": "code",
   "execution_count": 23,
   "metadata": {},
   "outputs": [
    {
     "name": "stdout",
     "output_type": "stream",
     "text": [
      "0.9686\n"
     ]
    }
   ],
   "source": [
    "print models[77].score(test_images,test_labels)"
   ]
  },
  {
   "cell_type": "code",
   "execution_count": 24,
   "metadata": {},
   "outputs": [
    {
     "name": "stdout",
     "output_type": "stream",
     "text": [
      "0.9675\n"
     ]
    }
   ],
   "source": [
    "print models[99].score(test_images,test_labels)"
   ]
  },
  {
   "cell_type": "code",
   "execution_count": 63,
   "metadata": {},
   "outputs": [
    {
     "name": "stdout",
     "output_type": "stream",
     "text": [
      "0.822\n",
      "0.8185\n",
      "0.8216\n"
     ]
    }
   ],
   "source": [
    "\n",
    "# models[0].predict(test_images)\n",
    "print models[0].score(test_images, test_labels)\n",
    "print models[0].estimators_[0].score(test_images, test_labels)\n",
    "# models[0].predict(test_images)\n",
    "# print models[1].score(test_images, test_labels)\n",
    "print models[0].estimators_[1].score(test_images, test_labels)"
   ]
  },
  {
   "cell_type": "code",
   "execution_count": 3,
   "metadata": {},
   "outputs": [],
   "source": [
    "num_of_data = 200\n",
    "x = np.linspace(-4,4,num_of_data)\n",
    "noise = np.random.normal(0,9,num_of_data)\n",
    "y = x**3\n",
    "y_noise = y + noise"
   ]
  },
  {
   "cell_type": "code",
   "execution_count": 4,
   "metadata": {},
   "outputs": [
    {
     "data": {
      "text/plain": [
       "<matplotlib.collections.PathCollection at 0x7f04882b6e50>"
      ]
     },
     "execution_count": 4,
     "metadata": {},
     "output_type": "execute_result"
    },
    {
     "data": {
      "image/png": "[encoded data removed]",
      "text/plain": [
       "<matplotlib.figure.Figure at 0x7f0490849950>"
      ]
     },
     "metadata": {},
     "output_type": "display_data"
    }
   ],
   "source": [
    "plt.plot(x,y)\n",
    "plt.scatter(x,y_noise,color=\"red\")"
   ]
  },
  {
   "cell_type": "code",
   "execution_count": 6,
   "metadata": {},
   "outputs": [
    {
     "name": "stderr",
     "output_type": "stream",
     "text": [
      "/home/ruby/anaconda2/lib/python2.7/site-packages/ipykernel_launcher.py:2: DataConversionWarning: A column-vector y was passed when a 1d array was expected. Please change the shape of y to (n_samples,), for example using ravel().\n",
      "  \n"
     ]
    },
    {
     "data": {
      "text/plain": [
       "RandomForestRegressor(bootstrap=True, criterion='mse', max_depth=None,\n",
       "           max_features='auto', max_leaf_nodes=None,\n",
       "           min_impurity_decrease=0.0, min_impurity_split=None,\n",
       "           min_samples_leaf=1, min_samples_split=2,\n",
       "           min_weight_fraction_leaf=0.0, n_estimators=3, n_jobs=4,\n",
       "           oob_score=False, random_state=None, verbose=0, warm_start=False)"
      ]
     },
     "execution_count": 6,
     "metadata": {},
     "output_type": "execute_result"
    }
   ],
   "source": [
    "sinmodel = RandomForestRegressor(n_estimators=3,n_jobs=4)\n",
    "sinmodel.fit(x.reshape(200,1),y.reshape(200,1))"
   ]
  },
  {
   "cell_type": "code",
   "execution_count": 7,
   "metadata": {},
   "outputs": [],
   "source": [
    "test_x = np.linspace(-6,6,200)\n",
    "test_y = test_x**3"
   ]
  },
  {
   "cell_type": "code",
   "execution_count": 18,
   "metadata": {},
   "outputs": [],
   "source": [
    "test_predict = sinmodel.predict(test_x.reshape(200,1))"
   ]
  },
  {
   "cell_type": "code",
   "execution_count": 26,
   "metadata": {},
   "outputs": [
    {
     "data": {
      "text/plain": [
       "0.41179361247370705"
      ]
     },
     "execution_count": 26,
     "metadata": {},
     "output_type": "execute_result"
    }
   ],
   "source": [
    "my_mean = test_predict.mean()\n",
    "my_mean"
   ]
  },
  {
   "cell_type": "code",
   "execution_count": 22,
   "metadata": {},
   "outputs": [
    {
     "name": "stdout",
     "output_type": "stream",
     "text": [
      "124.6078453893619\n",
      "-123.7842581644145\n"
     ]
    }
   ],
   "source": [
    "print my_mean + 3 * test_predict.std()\n",
    "print my_mean - 3 * test_predict.std()"
   ]
  },
  {
   "cell_type": "code",
   "execution_count": 25,
   "metadata": {},
   "outputs": [],
   "source": [
    "import forestci as fci"
   ]
  },
  {
   "cell_type": "code",
   "execution_count": 47,
   "metadata": {},
   "outputs": [
    {
     "name": "stdout",
     "output_type": "stream",
     "text": [
      "[16233.0185749  16233.0185749  16233.0185749  16233.0185749\n",
      " 16233.0185749  16233.0185749  16233.0185749  16233.0185749\n",
      " 16233.0185749  16233.0185749  16233.0185749  16233.0185749\n",
      " 16233.0185749  16233.0185749  16233.0185749  16233.0185749\n",
      " 16233.0185749  16233.0185749  16233.0185749  16233.0185749\n",
      " 16233.0185749  16233.0185749  16233.0185749  16233.0185749\n",
      " 16233.0185749  16233.0185749  16233.0185749  16233.0185749\n",
      " 16233.0185749  16233.0185749  16233.0185749  16233.0185749\n",
      " 16233.0185749  16233.0185749  16113.69306908 15901.80806855\n",
      " 15704.90062931 15488.73366684 15346.60943339 15123.78084469\n",
      " 14962.65802111 14842.57904881 14692.25573717 14614.90722949\n",
      " 14465.12276022 14390.20523487 14332.79779224 14230.72719437\n",
      " 14167.93673724 14089.62254399 14044.06239236 13988.19910659\n",
      " 13931.79663984 13898.85164027 13852.91969301 13818.95435371\n",
      " 13785.24106021 13760.98766967 13738.69574606 13712.52191919\n",
      " 13691.41356828 13677.73883832 13658.89073502 13649.93976701\n",
      " 13635.52469012 13625.12108888 13619.44991717 13609.47434035\n",
      " 13603.97040725 13598.69103599 13594.42755718 13590.21366162\n",
      " 13586.88726129 13583.60258356 13581.56964008 13580.21322903\n",
      " 13578.28234893 13576.73631215 13575.90969792 13575.27260352\n",
      " 13574.29627842 13573.79443914 13573.53823962 13573.25839018\n",
      " 13572.98506697 13572.8891099  13572.73768912 13572.64366576\n",
      " 13572.56028874 13572.52943931 13572.49973632 13572.48375893\n",
      " 13572.45744785 13572.44592968 13572.44945981 13572.4421759\n",
      " 13572.44385889 13572.44107619 13572.44097798 13572.44092258\n",
      " 13572.44089651 13572.44173942 13572.44076047 13572.43794763\n",
      " 13572.43752267 13572.4331624  13572.43763189 13572.43321439\n",
      " 13572.42833818 13572.44070655 13572.42468354 13572.45501504\n",
      " 13572.48012051 13572.59376704 13572.65590426 13572.74085529\n",
      " 13572.88167544 13573.12952874 13573.59373285 13573.91191323\n",
      " 13574.49192195 13575.21537532 13575.95197803 13577.06459188\n",
      " 13578.96365792 13580.53217559 13582.67026849 13585.5465388\n",
      " 13588.00364449 13591.44971213 13596.86302863 13601.52484061\n",
      " 13605.93483255 13618.55870448 13623.16113353 13633.82858369\n",
      " 13645.81396895 13659.42155834 13673.09654029 13686.39193989\n",
      " 13706.94249071 13735.33020306 13750.65699567 13779.15012003\n",
      " 13805.99951966 13865.77178078 13878.708362   13934.52922846\n",
      " 13978.74382468 14033.15632415 14098.19864503 14152.37680261\n",
      " 14217.81608721 14311.80744983 14415.65550643 14489.29588987\n",
      " 14577.76530046 14732.95022748 14797.88541481 14945.99953267\n",
      " 15186.18654377 15359.22534412 15472.05070852 15612.66381905\n",
      " 15864.44947591 16146.87637645 16266.49226743 16266.49226743\n",
      " 16266.49226743 16266.49226743 16266.49226743 16266.49226743\n",
      " 16266.49226743 16266.49226743 16266.49226743 16266.49226743\n",
      " 16266.49226743 16266.49226743 16266.49226743 16266.49226743\n",
      " 16266.49226743 16266.49226743 16266.49226743 16266.49226743\n",
      " 16266.49226743 16266.49226743 16266.49226743 16266.49226743\n",
      " 16266.49226743 16266.49226743 16266.49226743 16266.49226743\n",
      " 16266.49226743 16266.49226743 16266.49226743 16266.49226743\n",
      " 16266.49226743 16266.49226743 16266.49226743 16266.49226743]\n"
     ]
    }
   ],
   "source": [
    "variance = fci.random_forest_error(sinmodel, x.reshape(200,1),test_x.reshape(200,1))\n",
    "print variance"
   ]
  },
  {
   "cell_type": "code",
   "execution_count": 35,
   "metadata": {},
   "outputs": [],
   "source": [
    "mean = test_predict.mean()"
   ]
  },
  {
   "cell_type": "code",
   "execution_count": 46,
   "metadata": {},
   "outputs": [
    {
     "name": "stdout",
     "output_type": "stream",
     "text": [
      "[-191.23670505 -189.32638529 -187.45446261 -185.62054719 -183.82424922\n",
      " -182.06517888 -180.34294634 -178.6571618  -177.00743542 -175.39337741\n",
      " -173.81459792 -172.27070716 -170.7613153  -169.28603252 -167.844469\n",
      " -166.43623493 -165.06094049 -163.71819586 -162.40761122 -161.12879676\n",
      " -159.88136265 -158.66491907 -157.47907622 -156.32344427 -155.1976334\n",
      " -154.1012538  -153.03391564 -151.99522912 -150.9848044  -150.00225168\n",
      " -149.04718113 -148.11920294 -147.21792729 -146.34296436 -145.10932446\n",
      " -143.59997717 -142.16079785 -140.67964707 -139.46283011 -138.000458\n",
      " -136.76275811 -135.6829559  -134.52272714 -133.62884379 -132.51107972\n",
      " -131.66714836 -130.90343762 -130.00761077 -129.26570199 -128.49003084\n",
      " -127.84607537 -127.18561769 -126.54182252 -125.99732492 -125.42581409\n",
      " -124.91329833 -124.41886542 -123.97413731 -123.55273276 -123.13390548\n",
      " -122.74844713 -122.40426753 -122.0570075  -121.75889733 -121.45590836\n",
      " -121.18075756 -120.93559383 -120.68842449 -120.46956221 -120.26376028\n",
      " -120.07340087 -119.89471205 -119.73023893 -119.5766302  -119.43773487\n",
      " -119.31114915 -119.1921013  -119.0835619  -118.98631368 -118.89811043\n",
      " -118.81670982 -118.74457307 -118.68050862 -118.6231831  -118.57231244\n",
      " -118.52810543 -118.48935644 -118.45607112 -118.42769582 -118.40398749\n",
      " -118.38437626 -118.3685164  -118.35593378 -118.34632664 -118.33930604\n",
      " -118.33439155 -118.33126266 -118.32948248 -118.32868626 -118.32847492\n",
      " -118.32845858 -118.32825038 -118.32745108 -118.3256708  -118.32253452\n",
      " -118.31763027 -118.31061297 -118.3010307  -118.28852319 -118.27276266\n",
      " -118.25319937 -118.22970541 -118.20171024 -118.16915259 -118.1311519\n",
      " -118.08757879 -118.03815926 -117.98268277 -117.92114252 -117.85187897\n",
      " -117.77593133 -117.69249495 -117.60072349 -117.50149833 -117.39586741\n",
      " -117.27952751 -117.15524201 -117.02321086 -116.87899089 -116.72712275\n",
      " -116.57064072 -116.39963452 -116.21546527 -116.04735754 -115.83812311\n",
      " -115.63663869 -115.42590663 -115.20659027 -114.9728669  -114.72278394\n",
      " -114.4825741  -114.25380909 -113.96332483 -113.70201145 -113.41793113\n",
      " -113.23054441 -112.86290943 -112.62542225 -112.32899263 -112.04852111\n",
      " -111.78490307 -111.46383247 -111.1608489  -110.93422793 -110.71919664\n",
      " -110.37938698 -110.06736529 -109.95692399 -109.5191815  -109.33610264\n",
      " -109.43289539 -109.27944823 -108.90139809 -108.5886873  -108.61124128\n",
      " -108.7019598  -108.23812477 -107.36316184 -106.46188619 -105.533908\n",
      " -104.57883745 -103.59628473 -102.58586001 -101.54717349 -100.47983533\n",
      "  -99.38345573  -98.25764486  -97.10201291  -95.91617006  -94.69972648\n",
      "  -93.45229237  -92.17347791  -90.86289327  -89.52014864  -88.14485419\n",
      "  -86.73662012  -85.29505661  -83.81977383  -82.31038197  -80.7664912\n",
      "  -79.18771172  -77.57365371  -75.92392733  -74.23814279  -72.51591025\n",
      "  -70.75683991  -68.96054194  -67.12662652  -65.25470384  -63.34438408]\n",
      "\n"
     ]
    }
   ],
   "source": [
    "std = np.sqrt(variance)\n",
    "print y - std\n",
    "print \n"
   ]
  },
  {
   "cell_type": "code",
   "execution_count": 37,
   "metadata": {},
   "outputs": [
    {
     "data": {
      "text/plain": [
       "array([381.84757694, 381.84757694, 381.84757694, 381.84757694,\n",
       "       381.84757694, 381.84757694, 381.84757694, 381.84757694,\n",
       "       381.84757694, 381.84757694, 381.84757694, 381.84757694,\n",
       "       381.84757694, 381.84757694, 381.84757694, 381.84757694,\n",
       "       381.84757694, 381.84757694, 381.84757694, 381.84757694,\n",
       "       381.84757694, 381.84757694, 381.84757694, 381.84757694,\n",
       "       381.84757694, 381.84757694, 381.84757694, 381.84757694,\n",
       "       381.84757694, 381.84757694, 381.84757694, 381.84757694,\n",
       "       381.84757694, 381.84757694, 380.69377734, 378.6362563 ,\n",
       "       376.71380935, 374.59118772, 373.18847662, 370.97717866,\n",
       "       369.36914538, 368.16522261, 366.65160708, 365.86978421,\n",
       "       364.35024498, 363.58729919, 363.00127998, 361.95634666,\n",
       "       361.31177119, 360.50568172, 360.03568185, 359.45828738,\n",
       "       358.87416189, 358.53238002, 358.05517886, 357.70175273,\n",
       "       357.35053446, 357.09755931, 356.86485303, 356.59134621,\n",
       "       356.37058331, 356.22746319, 356.03007779, 355.93628743,\n",
       "       355.7851756 , 355.67606267, 355.61656476, 355.5118733 ,\n",
       "       355.45409578, 355.39866149, 355.35388639, 355.30962417,\n",
       "       355.27467962, 355.24016823, 355.21880648, 355.20455251,\n",
       "       355.18426051, 355.1680117 , 355.15932368, 355.15262731,\n",
       "       355.14236508, 355.13709005, 355.134397  , 355.13145531,\n",
       "       355.1285822 , 355.12757351, 355.12598179, 355.12499342,\n",
       "       355.12411696, 355.12379267, 355.12348043, 355.12331247,\n",
       "       355.12303589, 355.12291481, 355.12295192, 355.12287535,\n",
       "       355.12289304, 355.12286379, 355.12286276, 355.12286217,\n",
       "       355.1228619 , 355.12287076, 355.12286047, 355.1228309 ,\n",
       "       355.12282643, 355.1227806 , 355.12282758, 355.12278115,\n",
       "       355.12272989, 355.1228599 , 355.12269147, 355.12301031,\n",
       "       355.12327423, 355.12446888, 355.12512207, 355.12601507,\n",
       "       355.12749536, 355.13010075, 355.13498032, 355.13832487,\n",
       "       355.14442155, 355.15202579, 355.15976807, 355.17146197,\n",
       "       355.19142077, 355.20790424, 355.23037199, 355.26059334,\n",
       "       355.28640822, 355.32260806, 355.37946509, 355.42841799,\n",
       "       355.47471954, 355.60721294, 355.65550292, 355.76738913,\n",
       "       355.89304802, 356.0356391 , 356.17886369, 356.31803348,\n",
       "       356.5330161 , 356.8296961 , 356.98975069, 357.28701972,\n",
       "       357.56685922, 358.1888202 , 358.3232466 , 358.90249601,\n",
       "       359.36046718, 359.92303117, 360.59404359, 361.15175577,\n",
       "       361.82395594, 362.78664023, 363.84665939, 364.59607871,\n",
       "       365.49376663, 367.06226988, 367.71611318, 369.20236047,\n",
       "       371.59780508, 373.31328198, 374.42687136, 375.80956966,\n",
       "       378.27232264, 381.01499903, 382.17061402, 382.17061402,\n",
       "       382.17061402, 382.17061402, 382.17061402, 382.17061402,\n",
       "       382.17061402, 382.17061402, 382.17061402, 382.17061402,\n",
       "       382.17061402, 382.17061402, 382.17061402, 382.17061402,\n",
       "       382.17061402, 382.17061402, 382.17061402, 382.17061402,\n",
       "       382.17061402, 382.17061402, 382.17061402, 382.17061402,\n",
       "       382.17061402, 382.17061402, 382.17061402, 382.17061402,\n",
       "       382.17061402, 382.17061402, 382.17061402, 382.17061402,\n",
       "       382.17061402, 382.17061402, 382.17061402, 382.17061402])"
      ]
     },
     "execution_count": 37,
     "metadata": {},
     "output_type": "execute_result"
    }
   ],
   "source": []
  },
  {
   "cell_type": "code",
   "execution_count": 44,
   "metadata": {},
   "outputs": [
    {
     "name": "stdout",
     "output_type": "stream",
     "text": [
      "[2.35685674e+04 2.16305400e+04 1.98121131e+04 1.81080201e+04\n",
      " 1.65131593e+04 1.50225900e+04 1.36315294e+04 1.23353494e+04\n",
      " 1.11295730e+04 1.00098716e+04 8.97206118e+03 8.01209981e+03\n",
      " 7.12608401e+03 6.31024596e+03 5.56095033e+03 4.87469133e+03\n",
      " 4.24808969e+03 3.67788975e+03 3.16095654e+03 2.69427290e+03\n",
      " 2.27493663e+03 1.90015773e+03 1.56725559e+03 1.27365627e+03\n",
      " 1.01688980e+03 7.94587497e+02 6.04479369e+02 4.44391490e+02\n",
      " 3.12243450e+02 2.06045821e+02 1.23897673e+02 6.39841094e+01\n",
      " 2.45738462e+01 4.01682389e+00 8.30665081e-02 3.97915004e-01\n",
      " 7.14682238e-02 6.31305096e-02 6.65824828e-02 5.36989807e-02\n",
      " 4.48902494e-03 4.98163766e-02 5.65866966e-03 2.33473235e-01\n",
      " 1.16948581e-01 3.62586329e-02 4.67820985e-03 3.00891859e-02\n",
      " 4.43580520e-03 2.75882871e-02 2.38669037e-02 2.25937051e-02\n",
      " 2.67551785e-03 2.37225881e-02 9.63028906e-02 1.70590866e-03\n",
      " 4.55232800e-02 7.54139910e-02 3.68704806e-02 9.89040420e-03\n",
      " 1.00904725e-03 1.21808701e-03 4.76068376e-02 6.42589145e-04\n",
      " 7.42231217e-03 5.64792274e-03 4.22941571e-04 2.80612012e-02\n",
      " 1.08387346e-02 3.58880581e-04 5.73527460e-04 2.41853437e-03\n",
      " 3.80330767e-04 2.90781202e-04 1.71747777e-02 1.73043342e-02\n",
      " 1.18117975e-06 8.20392393e-04 3.15618025e-03 6.33600485e-03\n",
      " 3.55096667e-03 3.88899359e-04 1.29333388e-03 7.14056017e-04\n",
      " 1.24252748e-03 1.94803447e-03 1.00174693e-05 2.39041182e-04\n",
      " 8.23748896e-05 5.30957377e-04 2.20132321e-05 8.53271085e-05\n",
      " 2.81880409e-07 1.71731543e-05 1.40576979e-05 3.28971603e-07\n",
      " 1.85090198e-07 1.90368171e-07 1.30640456e-07 4.70636548e-09\n",
      " 1.90020361e-10 5.40777232e-09 1.06982462e-07 1.85090198e-07\n",
      " 1.39770361e-06 3.91803721e-07 5.77481339e-05 3.34560512e-06\n",
      " 6.36171893e-06 1.58521068e-04 1.24185484e-05 1.22947944e-03\n",
      " 1.26519281e-04 1.75034496e-04 2.23615750e-04 1.89001660e-04\n",
      " 4.85079424e-04 7.25603400e-03 8.05872460e-04 1.96661000e-03\n",
      " 1.98133144e-03 1.04845622e-03 1.06016431e-03 1.69840336e-03\n",
      " 1.49597779e-03 1.49680045e-02 3.45665783e-04 6.21486475e-03\n",
      " 2.70659892e-04 2.84059882e-03 4.97300426e-04 4.64549451e-03\n",
      " 1.28414029e-02 5.07841650e-03 3.47318833e-02 6.43002025e-03\n",
      " 6.42589145e-04 5.83077462e-04 1.38246685e-03 5.85406543e-02\n",
      " 1.28540140e-02 1.57856770e-03 1.22151478e-01 2.19129633e-01\n",
      " 2.38006757e-03 1.69187096e-02 9.95176247e-02 2.97162437e-03\n",
      " 2.51120281e-02 2.28429860e-03 3.48866853e-03 2.90797128e-02\n",
      " 3.43548377e-02 3.53371093e-03 3.62586329e-02 4.10892720e-03\n",
      " 4.88256794e-02 4.12137812e-02 5.27261403e-02 5.21336867e-02\n",
      " 5.53464484e-02 3.25438495e-01 6.31305096e-02 9.05373996e-03\n",
      " 1.05678615e-02 7.26434489e-02 3.27367459e+00 2.26797848e+01\n",
      " 6.09045245e+01 1.19597441e+02 2.00489304e+02 3.05394499e+02\n",
      " 4.36213443e+02 5.94935050e+02 7.83639219e+02 1.00449936e+03\n",
      " 1.25978496e+03 1.55186418e+03 1.88320648e+03 2.25638529e+03\n",
      " 2.67408070e+03 3.13908222e+03 3.65429151e+03 4.22272522e+03\n",
      " 4.84751782e+03 5.53192445e+03 6.27932387e+03 7.09322136e+03\n",
      " 7.97725172e+03 8.93518229e+03 9.97091596e+03 1.10884943e+04\n",
      " 1.22921006e+04 1.35860632e+04 1.49748584e+04 1.64631138e+04\n",
      " 1.80556118e+04 1.97572925e+04 2.15732572e+04 2.35087717e+04]\n"
     ]
    }
   ],
   "source": [
    "\n",
    "error = mean_squared_error(test_y.reshape(1,200),test_predict.reshape(1,200),multioutput=\"raw_values\")\n",
    "print error\n",
    "error = error.reshape(200,1)\n",
    "upper = y + error\n",
    "lower = y - error"
   ]
  },
  {
   "cell_type": "code",
   "execution_count": 45,
   "metadata": {},
   "outputs": [
    {
     "data": {
      "text/plain": [
       "array([[-23632.56737596, -23630.6570562 , -23628.78513352, ...,\n",
       "        -23508.3496184 , -23506.47769572, -23504.56737596],\n",
       "       [-21694.54004154, -21692.62972178, -21690.7577991 , ...,\n",
       "        -21570.32228398, -21568.4503613 , -21566.54004154],\n",
       "       [-19876.11307559, -19874.20275583, -19872.33083315, ...,\n",
       "        -19751.89531803, -19750.02339535, -19748.11307559],\n",
       "       ...,\n",
       "       [-19821.29252468, -19819.38220492, -19817.51028224, ...,\n",
       "        -19697.07476712, -19695.20284444, -19693.29252468],\n",
       "       [-21637.25719373, -21635.34687397, -21633.47495129, ...,\n",
       "        -21513.03943618, -21511.1675135 , -21509.25719373],\n",
       "       [-23572.77172435, -23570.86140459, -23568.98948191, ...,\n",
       "        -23448.5539668 , -23446.68204412, -23444.77172435]])"
      ]
     },
     "execution_count": 45,
     "metadata": {},
     "output_type": "execute_result"
    }
   ],
   "source": [
    "lower"
   ]
  },
  {
   "cell_type": "code",
   "execution_count": 47,
   "metadata": {},
   "outputs": [
    {
     "data": {
      "text/plain": [
       "<matplotlib.collections.PolyCollection at 0x7ff0e7e19810>"
      ]
     },
     "execution_count": 47,
     "metadata": {},
     "output_type": "execute_result"
    },
    {
     "data": {
      "image/png": "[encoded data removed]",
      "text/plain": [
       "<matplotlib.figure.Figure at 0x7ff0e7b81350>"
      ]
     },
     "metadata": {},
     "output_type": "display_data"
    }
   ],
   "source": [
    "plt.fill_between(test_x, lower.tolist()[0], upper.tolist()[0], color='grey', alpha=0.5)"
   ]
  },
  {
   "cell_type": "code",
   "execution_count": 121,
   "metadata": {},
   "outputs": [],
   "source": [
    "var = explained_variance_score(test_y, test_predict)"
   ]
  },
  {
   "cell_type": "code",
   "execution_count": 127,
   "metadata": {},
   "outputs": [],
   "source": [
    "mean = test_predict.mean()\n",
    "sinmodel.mean"
   ]
  },
  {
   "cell_type": "code",
   "execution_count": 13,
   "metadata": {},
   "outputs": [],
   "source": [
    "def pred_ints(model, X, percentile=95):\n",
    "    err_down = []\n",
    "    err_up = []\n",
    "    for x in range(len(X)):\n",
    "        preds = []\n",
    "        for pred in model.estimators_:\n",
    "            preds.append(pred.predict(X[x])[0])\n",
    "        err_down.append(np.percentile(preds, (100 - percentile) / 2. ))\n",
    "        err_up.append(np.percentile(preds, 100 - (100 - percentile) / 2.))\n",
    "    return err_down, err_up"
   ]
  },
  {
   "cell_type": "code",
   "execution_count": 152,
   "metadata": {},
   "outputs": [],
   "source": [
    "def my_pred_ints(model, X,Y, percentile=95):\n",
    "    err_down = []\n",
    "    err_up = []\n",
    "    for x in range(len(X)):\n",
    "        \n",
    "        pred_y = model.predict(X[x])[0]\n",
    "        print Y[x]\n",
    "        print mean_squared_error(Y[x],pred_y)\n",
    "#         preds = []\n",
    "#         for pred in model.estimators_:\n",
    "#             preds.append(pred.predict(X[x])[0])\n",
    "#         err_down.append(np.percentile(preds, (100 - percentile) / 2. ))\n",
    "#         err_up.append(np.percentile(preds, 100 - (100 - percentile) / 2.))\n",
    "#     return err_down, err_up"
   ]
  },
  {
   "cell_type": "code",
   "execution_count": 155,
   "metadata": {},
   "outputs": [
    {
     "ename": "ValueError",
     "evalue": "Expected 2D array, got 1D array instead:\narray=[-8.         -7.919598   -7.839196   -7.758794   -7.678392   -7.59799\n -7.517588   -7.437186   -7.356784   -7.276382   -7.19598    -7.1155777\n -7.035176   -6.954774   -6.874372   -6.7939696  -6.7135677  -6.633166\n -6.552764   -6.472362   -6.3919597  -6.311558   -6.231156   -6.150754\n -6.0703516  -5.9899497  -5.909548   -5.829146   -5.7487435  -5.6683416\n -5.5879397  -5.507538   -5.4271355  -5.3467336  -5.2663317  -5.18593\n -5.1055274  -5.0251255  -4.9447236  -4.8643217  -4.78392    -4.7035174\n -4.6231155  -4.5427136  -4.4623117  -4.3819094  -4.3015075  -4.2211056\n -4.1407037  -4.0603013  -3.9798994  -3.8994975  -3.8190954  -3.7386935\n -3.6582913  -3.5778894  -3.4974875  -3.4170854  -3.3366835  -3.2562814\n -3.1758795  -3.0954773  -3.0150754  -2.9346733  -2.8542714  -2.7738693\n -2.6934674  -2.6130652  -2.5326633  -2.4522612  -2.3718593  -2.2914572\n -2.2110553  -2.1306534  -2.0502512  -1.9698492  -1.8894472  -1.8090452\n -1.7286432  -1.6482412  -1.5678391  -1.4874371  -1.4070352  -1.3266332\n -1.2462312  -1.1658292  -1.0854272  -1.0050251  -0.92462313 -0.8442211\n -0.7638191  -0.6834171  -0.60301507 -0.52261305 -0.44221106 -0.36180905\n -0.28140703 -0.20100503 -0.12060302 -0.040201    0.040201    0.12060302\n  0.20100503  0.28140703  0.36180905  0.44221106  0.52261305  0.60301507\n  0.6834171   0.7638191   0.8442211   0.92462313  1.0050251   1.0854272\n  1.1658292   1.2462312   1.3266332   1.4070352   1.4874371   1.5678391\n  1.6482412   1.7286432   1.8090452   1.8894472   1.9698492   2.0502512\n  2.1306534   2.2110553   2.2914572   2.3718593   2.4522612   2.5326633\n  2.6130652   2.6934674   2.7738693   2.8542714   2.9346733   3.0150754\n  3.0954773   3.1758795   3.2562814   3.3366835   3.4170854   3.4974875\n  3.5778894   3.6582913   3.7386935   3.8190954   3.8994975   3.9798994\n  4.0603013   4.1407037   4.2211056   4.3015075   4.3819094   4.4623117\n  4.5427136   4.6231155   4.7035174   4.78392     4.8643217   4.9447236\n  5.0251255   5.1055274   5.18593     5.2663317   5.3467336   5.4271355\n  5.507538    5.5879397   5.6683416   5.7487435   5.829146    5.909548\n  5.9899497   6.0703516   6.150754    6.231156    6.311558    6.3919597\n  6.472362    6.552764    6.633166    6.7135677   6.7939696   6.874372\n  6.954774    7.035176    7.1155777   7.19598     7.276382    7.356784\n  7.437186    7.517588    7.59799     7.678392    7.758794    7.839196\n  7.919598    8.        ].\nReshape your data either using array.reshape(-1, 1) if your data has a single feature or array.reshape(1, -1) if it contains a single sample.",
     "output_type": "error",
     "traceback": [
      "\u001b[0;31m---------------------------------------------------------------------------\u001b[0m",
      "\u001b[0;31mValueError\u001b[0m                                Traceback (most recent call last)",
      "\u001b[0;32m<ipython-input-155-4f7823374756>\u001b[0m in \u001b[0;36m<module>\u001b[0;34m()\u001b[0m\n\u001b[0;32m----> 1\u001b[0;31m \u001b[0mpred_y\u001b[0m \u001b[0;34m=\u001b[0m \u001b[0mmodel\u001b[0m\u001b[0;34m.\u001b[0m\u001b[0mpredict\u001b[0m\u001b[0;34m(\u001b[0m\u001b[0mtest_x\u001b[0m\u001b[0;34m)\u001b[0m\u001b[0;34m\u001b[0m\u001b[0m\n\u001b[0m",
      "\u001b[0;32m/home/ruby/anaconda2/lib/python2.7/site-packages/sklearn/ensemble/forest.pyc\u001b[0m in \u001b[0;36mpredict\u001b[0;34m(self, X)\u001b[0m\n\u001b[1;32m    536\u001b[0m             \u001b[0mThe\u001b[0m \u001b[0mpredicted\u001b[0m \u001b[0mclasses\u001b[0m\u001b[0;34m.\u001b[0m\u001b[0;34m\u001b[0m\u001b[0m\n\u001b[1;32m    537\u001b[0m         \"\"\"\n\u001b[0;32m--> 538\u001b[0;31m         \u001b[0mproba\u001b[0m \u001b[0;34m=\u001b[0m \u001b[0mself\u001b[0m\u001b[0;34m.\u001b[0m\u001b[0mpredict_proba\u001b[0m\u001b[0;34m(\u001b[0m\u001b[0mX\u001b[0m\u001b[0;34m)\u001b[0m\u001b[0;34m\u001b[0m\u001b[0m\n\u001b[0m\u001b[1;32m    539\u001b[0m \u001b[0;34m\u001b[0m\u001b[0m\n\u001b[1;32m    540\u001b[0m         \u001b[0;32mif\u001b[0m \u001b[0mself\u001b[0m\u001b[0;34m.\u001b[0m\u001b[0mn_outputs_\u001b[0m \u001b[0;34m==\u001b[0m \u001b[0;36m1\u001b[0m\u001b[0;34m:\u001b[0m\u001b[0;34m\u001b[0m\u001b[0m\n",
      "\u001b[0;32m/home/ruby/anaconda2/lib/python2.7/site-packages/sklearn/ensemble/forest.pyc\u001b[0m in \u001b[0;36mpredict_proba\u001b[0;34m(self, X)\u001b[0m\n\u001b[1;32m    576\u001b[0m         \u001b[0mcheck_is_fitted\u001b[0m\u001b[0;34m(\u001b[0m\u001b[0mself\u001b[0m\u001b[0;34m,\u001b[0m \u001b[0;34m'estimators_'\u001b[0m\u001b[0;34m)\u001b[0m\u001b[0;34m\u001b[0m\u001b[0m\n\u001b[1;32m    577\u001b[0m         \u001b[0;31m# Check data\u001b[0m\u001b[0;34m\u001b[0m\u001b[0;34m\u001b[0m\u001b[0m\n\u001b[0;32m--> 578\u001b[0;31m         \u001b[0mX\u001b[0m \u001b[0;34m=\u001b[0m \u001b[0mself\u001b[0m\u001b[0;34m.\u001b[0m\u001b[0m_validate_X_predict\u001b[0m\u001b[0;34m(\u001b[0m\u001b[0mX\u001b[0m\u001b[0;34m)\u001b[0m\u001b[0;34m\u001b[0m\u001b[0m\n\u001b[0m\u001b[1;32m    579\u001b[0m \u001b[0;34m\u001b[0m\u001b[0m\n\u001b[1;32m    580\u001b[0m         \u001b[0;31m# Assign chunk of trees to jobs\u001b[0m\u001b[0;34m\u001b[0m\u001b[0;34m\u001b[0m\u001b[0m\n",
      "\u001b[0;32m/home/ruby/anaconda2/lib/python2.7/site-packages/sklearn/ensemble/forest.pyc\u001b[0m in \u001b[0;36m_validate_X_predict\u001b[0;34m(self, X)\u001b[0m\n\u001b[1;32m    355\u001b[0m                                  \"call `fit` before exploiting the model.\")\n\u001b[1;32m    356\u001b[0m \u001b[0;34m\u001b[0m\u001b[0m\n\u001b[0;32m--> 357\u001b[0;31m         \u001b[0;32mreturn\u001b[0m \u001b[0mself\u001b[0m\u001b[0;34m.\u001b[0m\u001b[0mestimators_\u001b[0m\u001b[0;34m[\u001b[0m\u001b[0;36m0\u001b[0m\u001b[0;34m]\u001b[0m\u001b[0;34m.\u001b[0m\u001b[0m_validate_X_predict\u001b[0m\u001b[0;34m(\u001b[0m\u001b[0mX\u001b[0m\u001b[0;34m,\u001b[0m \u001b[0mcheck_input\u001b[0m\u001b[0;34m=\u001b[0m\u001b[0mTrue\u001b[0m\u001b[0;34m)\u001b[0m\u001b[0;34m\u001b[0m\u001b[0m\n\u001b[0m\u001b[1;32m    358\u001b[0m \u001b[0;34m\u001b[0m\u001b[0m\n\u001b[1;32m    359\u001b[0m     \u001b[0;34m@\u001b[0m\u001b[0mproperty\u001b[0m\u001b[0;34m\u001b[0m\u001b[0m\n",
      "\u001b[0;32m/home/ruby/anaconda2/lib/python2.7/site-packages/sklearn/tree/tree.pyc\u001b[0m in \u001b[0;36m_validate_X_predict\u001b[0;34m(self, X, check_input)\u001b[0m\n\u001b[1;32m    371\u001b[0m         \u001b[0;34m\"\"\"Validate X whenever one tries to predict, apply, predict_proba\"\"\"\u001b[0m\u001b[0;34m\u001b[0m\u001b[0m\n\u001b[1;32m    372\u001b[0m         \u001b[0;32mif\u001b[0m \u001b[0mcheck_input\u001b[0m\u001b[0;34m:\u001b[0m\u001b[0;34m\u001b[0m\u001b[0m\n\u001b[0;32m--> 373\u001b[0;31m             \u001b[0mX\u001b[0m \u001b[0;34m=\u001b[0m \u001b[0mcheck_array\u001b[0m\u001b[0;34m(\u001b[0m\u001b[0mX\u001b[0m\u001b[0;34m,\u001b[0m \u001b[0mdtype\u001b[0m\u001b[0;34m=\u001b[0m\u001b[0mDTYPE\u001b[0m\u001b[0;34m,\u001b[0m \u001b[0maccept_sparse\u001b[0m\u001b[0;34m=\u001b[0m\u001b[0;34m\"csr\"\u001b[0m\u001b[0;34m)\u001b[0m\u001b[0;34m\u001b[0m\u001b[0m\n\u001b[0m\u001b[1;32m    374\u001b[0m             if issparse(X) and (X.indices.dtype != np.intc or\n\u001b[1;32m    375\u001b[0m                                 X.indptr.dtype != np.intc):\n",
      "\u001b[0;32m/home/ruby/anaconda2/lib/python2.7/site-packages/sklearn/utils/validation.pyc\u001b[0m in \u001b[0;36mcheck_array\u001b[0;34m(array, accept_sparse, dtype, order, copy, force_all_finite, ensure_2d, allow_nd, ensure_min_samples, ensure_min_features, warn_on_dtype, estimator)\u001b[0m\n\u001b[1;32m    439\u001b[0m                     \u001b[0;34m\"Reshape your data either using array.reshape(-1, 1) if \"\u001b[0m\u001b[0;34m\u001b[0m\u001b[0m\n\u001b[1;32m    440\u001b[0m                     \u001b[0;34m\"your data has a single feature or array.reshape(1, -1) \"\u001b[0m\u001b[0;34m\u001b[0m\u001b[0m\n\u001b[0;32m--> 441\u001b[0;31m                     \"if it contains a single sample.\".format(array))\n\u001b[0m\u001b[1;32m    442\u001b[0m             \u001b[0marray\u001b[0m \u001b[0;34m=\u001b[0m \u001b[0mnp\u001b[0m\u001b[0;34m.\u001b[0m\u001b[0matleast_2d\u001b[0m\u001b[0;34m(\u001b[0m\u001b[0marray\u001b[0m\u001b[0;34m)\u001b[0m\u001b[0;34m\u001b[0m\u001b[0m\n\u001b[1;32m    443\u001b[0m             \u001b[0;31m# To ensure that array flags are maintained\u001b[0m\u001b[0;34m\u001b[0m\u001b[0;34m\u001b[0m\u001b[0m\n",
      "\u001b[0;31mValueError\u001b[0m: Expected 2D array, got 1D array instead:\narray=[-8.         -7.919598   -7.839196   -7.758794   -7.678392   -7.59799\n -7.517588   -7.437186   -7.356784   -7.276382   -7.19598    -7.1155777\n -7.035176   -6.954774   -6.874372   -6.7939696  -6.7135677  -6.633166\n -6.552764   -6.472362   -6.3919597  -6.311558   -6.231156   -6.150754\n -6.0703516  -5.9899497  -5.909548   -5.829146   -5.7487435  -5.6683416\n -5.5879397  -5.507538   -5.4271355  -5.3467336  -5.2663317  -5.18593\n -5.1055274  -5.0251255  -4.9447236  -4.8643217  -4.78392    -4.7035174\n -4.6231155  -4.5427136  -4.4623117  -4.3819094  -4.3015075  -4.2211056\n -4.1407037  -4.0603013  -3.9798994  -3.8994975  -3.8190954  -3.7386935\n -3.6582913  -3.5778894  -3.4974875  -3.4170854  -3.3366835  -3.2562814\n -3.1758795  -3.0954773  -3.0150754  -2.9346733  -2.8542714  -2.7738693\n -2.6934674  -2.6130652  -2.5326633  -2.4522612  -2.3718593  -2.2914572\n -2.2110553  -2.1306534  -2.0502512  -1.9698492  -1.8894472  -1.8090452\n -1.7286432  -1.6482412  -1.5678391  -1.4874371  -1.4070352  -1.3266332\n -1.2462312  -1.1658292  -1.0854272  -1.0050251  -0.92462313 -0.8442211\n -0.7638191  -0.6834171  -0.60301507 -0.52261305 -0.44221106 -0.36180905\n -0.28140703 -0.20100503 -0.12060302 -0.040201    0.040201    0.12060302\n  0.20100503  0.28140703  0.36180905  0.44221106  0.52261305  0.60301507\n  0.6834171   0.7638191   0.8442211   0.92462313  1.0050251   1.0854272\n  1.1658292   1.2462312   1.3266332   1.4070352   1.4874371   1.5678391\n  1.6482412   1.7286432   1.8090452   1.8894472   1.9698492   2.0502512\n  2.1306534   2.2110553   2.2914572   2.3718593   2.4522612   2.5326633\n  2.6130652   2.6934674   2.7738693   2.8542714   2.9346733   3.0150754\n  3.0954773   3.1758795   3.2562814   3.3366835   3.4170854   3.4974875\n  3.5778894   3.6582913   3.7386935   3.8190954   3.8994975   3.9798994\n  4.0603013   4.1407037   4.2211056   4.3015075   4.3819094   4.4623117\n  4.5427136   4.6231155   4.7035174   4.78392     4.8643217   4.9447236\n  5.0251255   5.1055274   5.18593     5.2663317   5.3467336   5.4271355\n  5.507538    5.5879397   5.6683416   5.7487435   5.829146    5.909548\n  5.9899497   6.0703516   6.150754    6.231156    6.311558    6.3919597\n  6.472362    6.552764    6.633166    6.7135677   6.7939696   6.874372\n  6.954774    7.035176    7.1155777   7.19598     7.276382    7.356784\n  7.437186    7.517588    7.59799     7.678392    7.758794    7.839196\n  7.919598    8.        ].\nReshape your data either using array.reshape(-1, 1) if your data has a single feature or array.reshape(1, -1) if it contains a single sample."
     ]
    }
   ],
   "source": [
    "pred_y = model.predict(test_x)"
   ]
  },
  {
   "cell_type": "code",
   "execution_count": 15,
   "metadata": {},
   "outputs": [],
   "source": [
    "lower,upper = pred_ints(sinmodel,test_x)"
   ]
  },
  {
   "cell_type": "code",
   "execution_count": 16,
   "metadata": {},
   "outputs": [
    {
     "name": "stdout",
     "output_type": "stream",
     "text": [
      "200\n",
      "200\n",
      "(200,)\n"
     ]
    }
   ],
   "source": [
    "print len(lower)\n",
    "print len(upper)\n",
    "print test_x.shape"
   ]
  },
  {
   "cell_type": "code",
   "execution_count": 54,
   "metadata": {},
   "outputs": [
    {
     "name": "stdout",
     "output_type": "stream",
     "text": [
      "124.64842004398179\n"
     ]
    },
    {
     "data": {
      "image/png": "[encoded data removed]",
      "text/plain": [
       "<matplotlib.figure.Figure at 0x7f04880a6810>"
      ]
     },
     "metadata": {},
     "output_type": "display_data"
    }
   ],
   "source": [
    "def ensemble_mean_var(sinmodel, xs):\n",
    "    en_mean = 0\n",
    "    en_var = 0\n",
    "    \n",
    "\n",
    "    for model in sinmodel.estimators_:\n",
    "        predicted = model.predict(xs.reshape(200,1))\n",
    "        mean = predicted.mean()\n",
    "        var = predicted.var()\n",
    "        en_mean += mean\n",
    "        en_var += var + mean**2\n",
    "\n",
    "    en_mean /= len(sinmodel.estimators_)\n",
    "    en_var /= len(sinmodel.estimators_)\n",
    "    en_var -= en_mean**2\n",
    "#     print en_mean\n",
    "#     print en_var\n",
    "    return en_mean, en_var\n",
    "\n",
    "def test_ensemble(sinmodel,test_x,test_y):\n",
    "    test_xs = test_x\n",
    "    test_ys = test_y\n",
    "    \n",
    "    mean, var = ensemble_mean_var(sinmodel, test_xs)\n",
    "    std = np.sqrt(var)\n",
    "    upper = mean + 3*std\n",
    "    lower = mean - 3*std\n",
    "    \n",
    "#     test_xs_scaled = dataLoader.input_mean + dataLoader.input_std*test_xs\n",
    "\n",
    "#     plt.plot(test_xs_scaled, test_ys, 'b-')\n",
    "#     plt.plot(test_xs_scaled, mean, 'r-')\n",
    "    print upper\n",
    "    plt.fill_between(test_x, lower, upper, color='yellow', alpha=0.5)\n",
    "    plt.show()\n",
    "    \n",
    "test_ensemble(sinmodel,test_x,test_y)"
   ]
  },
  {
   "cell_type": "code",
   "execution_count": 57,
   "metadata": {},
   "outputs": [
    {
     "data": {
      "text/plain": [
       "<matplotlib.collections.PolyCollection at 0x7f0487ee7c50>"
      ]
     },
     "execution_count": 57,
     "metadata": {},
     "output_type": "execute_result"
    },
    {
     "data": {
      "image/png": "[encoded data removed]",
      "text/plain": [
       "<matplotlib.figure.Figure at 0x7f0487fb7710>"
      ]
     },
     "metadata": {},
     "output_type": "display_data"
    }
   ],
   "source": [
    "plt.figure(figsize=(15,8))\n",
    "plt.plot(test_x,test_y)\n",
    "plt.scatter(x,y_noise,color=\"red\")\n",
    "plt.fill_between(test_x, lower, upper, color='grey', alpha=0.5)"
   ]
  },
  {
   "cell_type": "code",
   "execution_count": 126,
   "metadata": {},
   "outputs": [
    {
     "name": "stdout",
     "output_type": "stream",
     "text": [
      "1.2369533569699387\n",
      "-2.317252030239151\n"
     ]
    },
    {
     "ename": "IndexError",
     "evalue": "invalid index to scalar variable.",
     "output_type": "error",
     "traceback": [
      "\u001b[0;31m---------------------------------------------------------------------------\u001b[0m",
      "\u001b[0;31mIndexError\u001b[0m                                Traceback (most recent call last)",
      "\u001b[0;32m<ipython-input-126-0984ebb98690>\u001b[0m in \u001b[0;36m<module>\u001b[0;34m()\u001b[0m\n\u001b[1;32m      7\u001b[0m \u001b[0;31m# plt.plot(test_xs_scaled, mean, 'r-')\u001b[0m\u001b[0;34m\u001b[0m\u001b[0;34m\u001b[0m\u001b[0m\n\u001b[1;32m      8\u001b[0m \u001b[0;34m\u001b[0m\u001b[0m\n\u001b[0;32m----> 9\u001b[0;31m \u001b[0mplt\u001b[0m\u001b[0;34m.\u001b[0m\u001b[0mfill_between\u001b[0m\u001b[0;34m(\u001b[0m\u001b[0mtest_x\u001b[0m\u001b[0;34m,\u001b[0m \u001b[0mlower\u001b[0m\u001b[0;34m[\u001b[0m\u001b[0;34m:\u001b[0m\u001b[0;34m,\u001b[0m \u001b[0;36m0\u001b[0m\u001b[0;34m]\u001b[0m\u001b[0;34m,\u001b[0m \u001b[0mupper\u001b[0m\u001b[0;34m[\u001b[0m\u001b[0;34m:\u001b[0m\u001b[0;34m,\u001b[0m \u001b[0;36m0\u001b[0m\u001b[0;34m]\u001b[0m\u001b[0;34m,\u001b[0m \u001b[0mcolor\u001b[0m\u001b[0;34m=\u001b[0m\u001b[0;34m'yellow'\u001b[0m\u001b[0;34m,\u001b[0m \u001b[0malpha\u001b[0m\u001b[0;34m=\u001b[0m\u001b[0;36m0.5\u001b[0m\u001b[0;34m)\u001b[0m\u001b[0;34m\u001b[0m\u001b[0m\n\u001b[0m",
      "\u001b[0;31mIndexError\u001b[0m: invalid index to scalar variable."
     ]
    }
   ],
   "source": [
    "std = np.sqrt(var)\n",
    "upper = mean + 3*std\n",
    "lower = mean - 3*std\n",
    "print upper\n",
    "print lower\n",
    "# plt.plot(test_xs_scaled, test_ys, 'b-')\n",
    "# plt.plot(test_xs_scaled, mean, 'r-')\n",
    "\n",
    "plt.fill_between(test_x, lower[:, 0], upper[:, 0], color='yellow', alpha=0.5)"
   ]
  }
 ],
 "metadata": {
  "kernelspec": {
   "display_name": "Python 2",
   "language": "python",
   "name": "python2"
  },
  "language_info": {
   "codemirror_mode": {
    "name": "ipython",
    "version": 2
   },
   "file_extension": ".py",
   "mimetype": "text/x-python",
   "name": "python",
   "nbconvert_exporter": "python",
   "pygments_lexer": "ipython2",
   "version": "2.7.14"
  }
 },
 "nbformat": 4,
 "nbformat_minor": 2
}
