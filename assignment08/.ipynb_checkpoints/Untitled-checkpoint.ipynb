{
 "cells": [
  {
   "cell_type": "code",
   "execution_count": 1,
   "metadata": {},
   "outputs": [
    {
     "name": "stderr",
     "output_type": "stream",
     "text": [
      "/home/ruby/anaconda2/lib/python2.7/site-packages/h5py/__init__.py:36: FutureWarning: Conversion of the second argument of issubdtype from `float` to `np.floating` is deprecated. In future, it will be treated as `np.float64 == np.dtype(float).type`.\n",
      "  from ._conv import register_converters as _register_converters\n"
     ]
    }
   ],
   "source": [
    "import tensorflow as tf\n",
    "from sklearn.linear_model import LinearRegression, LogisticRegression\n",
    "from sklearn.ensemble import RandomForestClassifier\n",
    "from sklearn.metrics import log_loss\n",
    "import numpy as np\n",
    "import pickle\n",
    "from sklearn.externals import joblib\n",
    "import matplotlib.pyplot as plt\n",
    "%matplotlib inline"
   ]
  },
  {
   "cell_type": "code",
   "execution_count": 2,
   "metadata": {},
   "outputs": [
    {
     "name": "stdout",
     "output_type": "stream",
     "text": [
      "WARNING:tensorflow:From <ipython-input-2-2720d8fc3cb4>:3: read_data_sets (from tensorflow.contrib.learn.python.learn.datasets.mnist) is deprecated and will be removed in a future version.\n",
      "Instructions for updating:\n",
      "Please use alternatives such as official/mnist/dataset.py from tensorflow/models.\n",
      "WARNING:tensorflow:From /home/ruby/anaconda2/lib/python2.7/site-packages/tensorflow/contrib/learn/python/learn/datasets/mnist.py:260: maybe_download (from tensorflow.contrib.learn.python.learn.datasets.base) is deprecated and will be removed in a future version.\n",
      "Instructions for updating:\n",
      "Please write your own downloading logic.\n",
      "WARNING:tensorflow:From /home/ruby/anaconda2/lib/python2.7/site-packages/tensorflow/contrib/learn/python/learn/datasets/mnist.py:262: extract_images (from tensorflow.contrib.learn.python.learn.datasets.mnist) is deprecated and will be removed in a future version.\n",
      "Instructions for updating:\n",
      "Please use tf.data to implement this functionality.\n",
      "Extracting MNIST_data/train-images-idx3-ubyte.gz\n",
      "WARNING:tensorflow:From /home/ruby/anaconda2/lib/python2.7/site-packages/tensorflow/contrib/learn/python/learn/datasets/mnist.py:267: extract_labels (from tensorflow.contrib.learn.python.learn.datasets.mnist) is deprecated and will be removed in a future version.\n",
      "Instructions for updating:\n",
      "Please use tf.data to implement this functionality.\n",
      "Extracting MNIST_data/train-labels-idx1-ubyte.gz\n",
      "Extracting MNIST_data/t10k-images-idx3-ubyte.gz\n",
      "Extracting MNIST_data/t10k-labels-idx1-ubyte.gz\n",
      "WARNING:tensorflow:From /home/ruby/anaconda2/lib/python2.7/site-packages/tensorflow/contrib/learn/python/learn/datasets/mnist.py:290: __init__ (from tensorflow.contrib.learn.python.learn.datasets.mnist) is deprecated and will be removed in a future version.\n",
      "Instructions for updating:\n",
      "Please use alternatives such as official/mnist/dataset.py from tensorflow/models.\n"
     ]
    }
   ],
   "source": [
    "#Load MNIST data from tf\n",
    "from tensorflow.examples.tutorials.mnist import input_data\n",
    "mnist = input_data.read_data_sets(\"MNIST_data/\", one_hot=False)\n",
    "# mnist_one_hot = input_data.read_data_sets(\"MNIST_data/\", one_hot=True)"
   ]
  },
  {
   "cell_type": "code",
   "execution_count": 3,
   "metadata": {},
   "outputs": [],
   "source": [
    "train_images = mnist.train.images\n",
    "train_labels = mnist.train.labels\n",
    "test_images = mnist.test.images\n",
    "test_labels = mnist.test.labels"
   ]
  },
  {
   "cell_type": "code",
   "execution_count": 4,
   "metadata": {},
   "outputs": [
    {
     "name": "stdout",
     "output_type": "stream",
     "text": [
      "1\n",
      "2\n",
      "3\n",
      "4\n",
      "5\n",
      "6\n",
      "7\n",
      "8\n",
      "9\n",
      "10\n",
      "11\n",
      "12\n",
      "13\n",
      "14\n",
      "15\n",
      "16\n",
      "17\n",
      "18\n",
      "19\n",
      "20\n",
      "21\n",
      "22\n",
      "23\n",
      "24\n",
      "25\n",
      "26\n",
      "27\n",
      "28\n",
      "29\n",
      "30\n",
      "31\n",
      "32\n",
      "33\n",
      "34\n",
      "35\n",
      "36\n",
      "37\n",
      "38\n",
      "39\n",
      "40\n",
      "41\n",
      "42\n",
      "43\n",
      "44\n",
      "45\n",
      "46\n",
      "47\n",
      "48\n",
      "49\n",
      "50\n",
      "51\n",
      "52\n",
      "53\n",
      "54\n",
      "55\n",
      "56\n",
      "57\n",
      "58\n",
      "59\n",
      "60\n",
      "61\n",
      "62\n",
      "63\n",
      "64\n",
      "65\n",
      "66\n",
      "67\n",
      "68\n",
      "69\n",
      "70\n",
      "71\n",
      "72\n",
      "73\n",
      "74\n",
      "75\n",
      "76\n",
      "77\n",
      "78\n",
      "79\n",
      "80\n",
      "81\n",
      "82\n",
      "83\n",
      "84\n",
      "85\n",
      "86\n",
      "87\n",
      "88\n",
      "89\n",
      "90\n",
      "91\n",
      "92\n",
      "93\n",
      "94\n",
      "95\n",
      "96\n",
      "97\n",
      "98\n",
      "99\n"
     ]
    },
    {
     "data": {
      "text/plain": [
       "['random_forest_models.pkl']"
      ]
     },
     "execution_count": 4,
     "metadata": {},
     "output_type": "execute_result"
    }
   ],
   "source": [
    "def trainRandomForest(index):\n",
    "    model = RandomForestClassifier(n_estimators=index,n_jobs=4)\n",
    "#     print index\n",
    "#     model.random_state(index)\n",
    "    model.fit(train_images, train_labels)\n",
    "    return model\n",
    "\n",
    "models = {}\n",
    "for i in range(1,100):\n",
    "    print i\n",
    "    model = trainRandomForest(i)\n",
    "    models[i] = model\n",
    "\n",
    "joblib.dump(models, 'random_forest_models.pkl')\n",
    "# print models"
   ]
  },
  {
   "cell_type": "code",
   "execution_count": null,
   "metadata": {
    "collapsed": true
   },
   "outputs": [],
   "source": [
    "clf.estimators_[i].predict_proba(np.reshape(test_samples[idx],(1,-1)))[0]"
   ]
  },
  {
   "cell_type": "code",
   "execution_count": 51,
   "metadata": {},
   "outputs": [
    {
     "name": "stdout",
     "output_type": "stream",
     "text": [
      "9\n",
      "[0. 0. 0. 0. 0. 0. 0. 0. 0. 1.]\n",
      "[0. 0. 0. 0. 1. 0. 0. 0. 0. 0.]\n",
      "[0. 0. 0. 0. 0. 1. 0. 0. 0. 0.]\n",
      "[[       -inf        -inf        -inf        -inf -1.09861229 -1.09861229\n",
      "         -inf        -inf        -inf -1.09861229]]\n"
     ]
    },
    {
     "name": "stderr",
     "output_type": "stream",
     "text": [
      "/home/ruby/anaconda2/lib/python2.7/site-packages/sklearn/ensemble/forest.py:623: RuntimeWarning: divide by zero encountered in log\n",
      "  return np.log(proba)\n"
     ]
    }
   ],
   "source": [
    "print test_labels[7]\n",
    "print models[3].estimators_[0].predict_proba(np.reshape(test_images[7],(1,-1)))[0]\n",
    "print models[3].estimators_[1].predict_proba(np.reshape(test_images[7],(1,-1)))[0]\n",
    "print models[3].estimators_[2].predict_proba(np.reshape(test_images[7],(1,-1)))[0]\n",
    "print models[3].predict_log_proba(np.reshape(test_images[7],(1,-1)))"
   ]
  },
  {
   "cell_type": "code",
   "execution_count": 53,
   "metadata": {},
   "outputs": [
    {
     "name": "stdout",
     "output_type": "stream",
     "text": [
      "5\n",
      "[0. 0. 0. 0. 0. 0. 1. 0. 0. 0.]\n",
      "[0. 0. 0. 0. 0. 0. 0. 0. 1. 0.]\n",
      "[0. 0. 0. 0. 1. 0. 0. 0. 0. 0.]\n",
      "[[       -inf        -inf        -inf        -inf -1.09861229        -inf\n",
      "  -1.09861229        -inf -1.09861229        -inf]]\n",
      "[4]\n"
     ]
    }
   ],
   "source": [
    "print test_labels[8]\n",
    "print models[3].estimators_[0].predict_proba(np.reshape(test_images[8],(1,-1)))[0]\n",
    "print models[3].estimators_[1].predict_proba(np.reshape(test_images[8],(1,-1)))[0]\n",
    "print models[3].estimators_[2].predict_proba(np.reshape(test_images[8],(1,-1)))[0]\n",
    "print models[3].predict_log_proba(np.reshape(test_images[8],(1,-1)))\n",
    "print models[3].predict(np.reshape(test_images[8],(1,-1)))"
   ]
  },
  {
   "cell_type": "code",
   "execution_count": 57,
   "metadata": {},
   "outputs": [
    {
     "name": "stdout",
     "output_type": "stream",
     "text": [
      "5\n",
      "[0. 0. 0. 0. 0. 1. 0. 0. 0. 0.]\n",
      "[0. 0. 0. 0. 0. 0. 0. 1. 0. 0.]\n",
      "[0. 0. 0. 0. 0. 1. 0. 0. 0. 0.]\n",
      "[[-4.53259949 -4.53259949 -2.92316158 -4.53259949 -2.2300144  -1.16530366\n",
      "  -1.64222774 -3.4339872  -1.69938615 -2.45315795]]\n"
     ]
    },
    {
     "ename": "AttributeError",
     "evalue": "'RandomForestClassifier' object has no attribute 'oob_decision_function_'",
     "output_type": "error",
     "traceback": [
      "\u001b[0;31m---------------------------------------------------------------------------\u001b[0m",
      "\u001b[0;31mAttributeError\u001b[0m                            Traceback (most recent call last)",
      "\u001b[0;32m<ipython-input-57-2cb3cfaf2074>\u001b[0m in \u001b[0;36m<module>\u001b[0;34m()\u001b[0m\n\u001b[1;32m      4\u001b[0m \u001b[0;32mprint\u001b[0m \u001b[0mmodels\u001b[0m\u001b[0;34m[\u001b[0m\u001b[0;36m93\u001b[0m\u001b[0;34m]\u001b[0m\u001b[0;34m.\u001b[0m\u001b[0mestimators_\u001b[0m\u001b[0;34m[\u001b[0m\u001b[0;36m2\u001b[0m\u001b[0;34m]\u001b[0m\u001b[0;34m.\u001b[0m\u001b[0mpredict_proba\u001b[0m\u001b[0;34m(\u001b[0m\u001b[0mnp\u001b[0m\u001b[0;34m.\u001b[0m\u001b[0mreshape\u001b[0m\u001b[0;34m(\u001b[0m\u001b[0mtest_images\u001b[0m\u001b[0;34m[\u001b[0m\u001b[0;36m8\u001b[0m\u001b[0;34m]\u001b[0m\u001b[0;34m,\u001b[0m\u001b[0;34m(\u001b[0m\u001b[0;36m1\u001b[0m\u001b[0;34m,\u001b[0m\u001b[0;34m-\u001b[0m\u001b[0;36m1\u001b[0m\u001b[0;34m)\u001b[0m\u001b[0;34m)\u001b[0m\u001b[0;34m)\u001b[0m\u001b[0;34m[\u001b[0m\u001b[0;36m0\u001b[0m\u001b[0;34m]\u001b[0m\u001b[0;34m\u001b[0m\u001b[0m\n\u001b[1;32m      5\u001b[0m \u001b[0;32mprint\u001b[0m \u001b[0mmodels\u001b[0m\u001b[0;34m[\u001b[0m\u001b[0;36m93\u001b[0m\u001b[0;34m]\u001b[0m\u001b[0;34m.\u001b[0m\u001b[0mpredict_log_proba\u001b[0m\u001b[0;34m(\u001b[0m\u001b[0mnp\u001b[0m\u001b[0;34m.\u001b[0m\u001b[0mreshape\u001b[0m\u001b[0;34m(\u001b[0m\u001b[0mtest_images\u001b[0m\u001b[0;34m[\u001b[0m\u001b[0;36m8\u001b[0m\u001b[0;34m]\u001b[0m\u001b[0;34m,\u001b[0m\u001b[0;34m(\u001b[0m\u001b[0;36m1\u001b[0m\u001b[0;34m,\u001b[0m\u001b[0;34m-\u001b[0m\u001b[0;36m1\u001b[0m\u001b[0;34m)\u001b[0m\u001b[0;34m)\u001b[0m\u001b[0;34m)\u001b[0m\u001b[0;34m\u001b[0m\u001b[0m\n\u001b[0;32m----> 6\u001b[0;31m \u001b[0;32mprint\u001b[0m \u001b[0mmodels\u001b[0m\u001b[0;34m[\u001b[0m\u001b[0;36m93\u001b[0m\u001b[0;34m]\u001b[0m\u001b[0;34m.\u001b[0m\u001b[0moob_decision_function_\u001b[0m\u001b[0;34m(\u001b[0m\u001b[0mtest_images\u001b[0m\u001b[0;34m,\u001b[0m\u001b[0mtest_labels\u001b[0m\u001b[0;34m)\u001b[0m\u001b[0;34m\u001b[0m\u001b[0m\n\u001b[0m\u001b[1;32m      7\u001b[0m \u001b[0;32mprint\u001b[0m \u001b[0mmodels\u001b[0m\u001b[0;34m[\u001b[0m\u001b[0;36m93\u001b[0m\u001b[0;34m]\u001b[0m\u001b[0;34m.\u001b[0m\u001b[0mpredict\u001b[0m\u001b[0;34m(\u001b[0m\u001b[0mnp\u001b[0m\u001b[0;34m.\u001b[0m\u001b[0mreshape\u001b[0m\u001b[0;34m(\u001b[0m\u001b[0mtest_images\u001b[0m\u001b[0;34m[\u001b[0m\u001b[0;36m8\u001b[0m\u001b[0;34m]\u001b[0m\u001b[0;34m,\u001b[0m\u001b[0;34m(\u001b[0m\u001b[0;36m1\u001b[0m\u001b[0;34m,\u001b[0m\u001b[0;34m-\u001b[0m\u001b[0;36m1\u001b[0m\u001b[0;34m)\u001b[0m\u001b[0;34m)\u001b[0m\u001b[0;34m)\u001b[0m\u001b[0;34m\u001b[0m\u001b[0m\n",
      "\u001b[0;31mAttributeError\u001b[0m: 'RandomForestClassifier' object has no attribute 'oob_decision_function_'"
     ]
    }
   ],
   "source": [
    "print test_labels[8]\n",
    "print models[93].estimators_[0].predict_proba(np.reshape(test_images[8],(1,-1)))[0]\n",
    "print models[93].estimators_[1].predict_proba(np.reshape(test_images[8],(1,-1)))[0]\n",
    "print models[93].estimators_[2].predict_proba(np.reshape(test_images[8],(1,-1)))[0]\n",
    "print models[93].predict_log_proba(np.reshape(test_images[8],(1,-1)))\n",
    "print models[93].oob_decision_function_(test_images,test_labels)\n",
    "print models[93].predict(np.reshape(test_images[8],(1,-1)))"
   ]
  },
  {
   "cell_type": "code",
   "execution_count": 134,
   "metadata": {},
   "outputs": [],
   "source": [
    "def plot_uncertainty(model,test_images,test_labels):\n",
    "    predicted_output = model.predict_proba(test_images)\n",
    "    \n",
    "    zero = np.where(test_labels == 0)[0]\n",
    "    one = np.where(test_labels == 1)[0]\n",
    "    two = np.where(test_labels == 2)[0]\n",
    "    three = np.where(test_labels == 3)[0]\n",
    "    four = np.where(test_labels == 4)[0]\n",
    "    five = np.where(test_labels == 5)[0]\n",
    "    six = np.where(test_labels == 6)[0]\n",
    "    seven = np.where(test_labels == 7)[0]\n",
    "    eight = np.where(test_labels == 8)[0]\n",
    "    nine = np.where(test_labels == 9)[0]\n",
    "    fig, ax = plt.subplots(1,figsize=(8,6))\n",
    "    ax.hist(predicted_output[zero, 1], histtype='step', label='zero')\n",
    "    ax.hist(predicted_output[one, 1], histtype='step', label='one')\n",
    "    ax.hist(predicted_output[two, 1], histtype='step', label='two')\n",
    "    ax.hist(predicted_output[three, 1], histtype='step', label='three')\n",
    "    ax.hist(predicted_output[four, 1], histtype='step', label='four')\n",
    "    ax.hist(predicted_output[five, 1], histtype='step', label='five')\n",
    "    ax.hist(predicted_output[six, 1], histtype='step', label='six')\n",
    "    ax.hist(predicted_output[seven, 1], histtype='step', label='seven')\n",
    "    ax.hist(predicted_output[eight, 1], histtype='step', label='eight')\n",
    "    ax.hist(predicted_output[nine, 1], histtype='step', label='nine')\n",
    "\n",
    "    ax.legend(loc='upper center', bbox_to_anchor=(0.5, 1.2),\n",
    "              ncol=5, fancybox=True, shadow=True)\n",
    "    \n",
    "    ax.set_xlabel('Prediction (Classes probability)')\n",
    "    ax.set_ylabel('Number of observations')"
   ]
  },
  {
   "cell_type": "code",
   "execution_count": 135,
   "metadata": {},
   "outputs": [
    {
     "data": {
      "image/png": "[encoded data removed]",
      "text/plain": [
       "<matplotlib.figure.Figure at 0x7f551d6236d0>"
      ]
     },
     "metadata": {},
     "output_type": "display_data"
    }
   ],
   "source": [
    "plot_uncertainty(models[3],test_images,test_labels)"
   ]
  },
  {
   "cell_type": "code",
   "execution_count": null,
   "metadata": {},
   "outputs": [],
   "source": [
    "plot_uncertainty(models[3],test_images,test_labels)"
   ]
  },
  {
   "cell_type": "code",
   "execution_count": 79,
   "metadata": {},
   "outputs": [],
   "source": [
    "models[3].predict(np.reshape(test_images[0],(1,-1)))[0]"
   ]
  },
  {
   "cell_type": "code",
   "execution_count": 131,
   "metadata": {},
   "outputs": [
    {
     "data": {
      "text/plain": [
       "Text(0,0.5,u'Number of observations')"
      ]
     },
     "execution_count": 131,
     "metadata": {},
     "output_type": "execute_result"
    },
    {
     "data": {
      "image/png": "[encoded data removed]",
      "text/plain": [
       "<matplotlib.figure.Figure at 0x7f551ccb08d0>"
      ]
     },
     "metadata": {},
     "output_type": "display_data"
    }
   ],
   "source": [
    "# print test_labels\n",
    "# print models[3].predict(test_images)\n",
    "predicted_output = models[3].predict_proba(test_images)\n",
    "\n",
    "zero = np.where(test_labels == 0)[0]\n",
    "one = np.where(test_labels == 1)[0]\n",
    "two = np.where(test_labels == 2)[0]\n",
    "three = np.where(test_labels == 3)[0]\n",
    "four = np.where(test_labels == 4)[0]\n",
    "five = np.where(test_labels == 5)[0]\n",
    "six = np.where(test_labels == 6)[0]\n",
    "seven = np.where(test_labels == 7)[0]\n",
    "eight = np.where(test_labels == 8)[0]\n",
    "nine = np.where(test_labels == 9)[0]\n",
    "fig, ax = plt.subplots(1,figsize=(8,6))\n",
    "ax.hist(predicted_output[zero, 1], histtype='step', label='zero')\n",
    "ax.hist(predicted_output[one, 1], histtype='step', label='one')\n",
    "ax.hist(predicted_output[two, 1], histtype='step', label='two')\n",
    "ax.hist(predicted_output[three, 1], histtype='step', label='three')\n",
    "ax.hist(predicted_output[four, 1], histtype='step', label='four')\n",
    "ax.hist(predicted_output[five, 1], histtype='step', label='five')\n",
    "ax.hist(predicted_output[six, 1], histtype='step', label='six')\n",
    "ax.hist(predicted_output[seven, 1], histtype='step', label='seven')\n",
    "ax.hist(predicted_output[eight, 1], histtype='step', label='eight')\n",
    "ax.hist(predicted_output[nine, 1], histtype='step', label='nine')\n",
    "\n",
    "ax.legend(loc='upper center', bbox_to_anchor=(0.5, 1.2),\n",
    "          ncol=5, fancybox=True, shadow=True)\n",
    "\n",
    "# handles, labels = ax.get_legend_handles_labels()\n",
    "# plt.legend(flip(handles, 2), flip(labels, 2), loc=9, ncol=2)\n",
    "# plt.legend(flip(handles, 2), flip(labels, 2), loc=9, ncol=2)\n",
    "# print predicted_output\n",
    "\n",
    "# misclassified = np.where(models[3].predict(test_images) == 0)\n",
    "# classified = np.where(test_labels == models[3].predict(test_images))\n",
    "# print \"prediction output misclassified\"\n",
    "# print predicted_output[misclassified]\n",
    "# print \"prediction output classified\"\n",
    "# print  predicted_output[classified]\n",
    "# # fig, ax = plt.subplots(1)\n",
    "# ax.hist(predicted_output[misclassified], histtype='step', label='spam')\n",
    "# ax.hist(predicted_output[classified], histtype='step', label='not spam')\n",
    "ax.set_xlabel('Prediction (Classes probability)')\n",
    "ax.set_ylabel('Number of observations')\n",
    "# plt.legend()\n",
    "# plt.show()\n",
    "# print np.shape(misclassified)\n",
    "# print misclassified[0][:10]"
   ]
  },
  {
   "cell_type": "code",
   "execution_count": null,
   "metadata": {},
   "outputs": [],
   "source": []
  },
  {
   "cell_type": "code",
   "execution_count": 22,
   "metadata": {},
   "outputs": [
    {
     "name": "stdout",
     "output_type": "stream",
     "text": [
      "0.9631\n"
     ]
    }
   ],
   "source": [
    "print models[25].score(test_images,test_labels)"
   ]
  },
  {
   "cell_type": "code",
   "execution_count": 23,
   "metadata": {},
   "outputs": [
    {
     "name": "stdout",
     "output_type": "stream",
     "text": [
      "0.9686\n"
     ]
    }
   ],
   "source": [
    "print models[77].score(test_images,test_labels)"
   ]
  },
  {
   "cell_type": "code",
   "execution_count": 24,
   "metadata": {},
   "outputs": [
    {
     "name": "stdout",
     "output_type": "stream",
     "text": [
      "0.9675\n"
     ]
    }
   ],
   "source": [
    "print models[99].score(test_images,test_labels)"
   ]
  },
  {
   "cell_type": "code",
   "execution_count": null,
   "metadata": {},
   "outputs": [],
   "source": [
    "spam_y_hat = spam_RFC.predict_proba(spam_X_test)\n",
    "\n",
    "idx_spam = np.where(spam_y_test == 1)[0]\n",
    "idx_ham = np.where(spam_y_test == 0)[0]\n",
    "\n",
    "# Histogram predictions without error bars:\n"
   ]
  },
  {
   "cell_type": "code",
   "execution_count": 9,
   "metadata": {},
   "outputs": [
    {
     "data": {
      "text/plain": [
       "10000"
      ]
     },
     "execution_count": 9,
     "metadata": {},
     "output_type": "execute_result"
    }
   ],
   "source": [
    "for i in range(len(test_labels)):\n",
    "    \n",
    "    "
   ]
  },
  {
   "cell_type": "code",
   "execution_count": null,
   "metadata": {},
   "outputs": [],
   "source": [
    "test_labels[0] -> 7\n",
    "test_labels[1] -> 1\n",
    "test_labels[5] -> 0"
   ]
  },
  {
   "cell_type": "code",
   "execution_count": 63,
   "metadata": {},
   "outputs": [
    {
     "name": "stdout",
     "output_type": "stream",
     "text": [
      "0.822\n",
      "0.8185\n",
      "0.8216\n"
     ]
    }
   ],
   "source": [
    "\n",
    "# models[0].predict(test_images)\n",
    "print models[0].score(test_images, test_labels)\n",
    "print models[0].estimators_[0].score(test_images, test_labels)\n",
    "# models[0].predict(test_images)\n",
    "# print models[1].score(test_images, test_labels)\n",
    "print models[0].estimators_[1].score(test_images, test_labels)"
   ]
  },
  {
   "cell_type": "code",
   "execution_count": 64,
   "metadata": {},
   "outputs": [
    {
     "data": {
      "text/plain": [
       "0.82005"
      ]
     },
     "execution_count": 64,
     "metadata": {},
     "output_type": "execute_result"
    }
   ],
   "source": [
    "(0.8185 + 0.8216)/2\n"
   ]
  },
  {
   "cell_type": "code",
   "execution_count": 44,
   "metadata": {},
   "outputs": [
    {
     "data": {
      "text/plain": [
       "array([7, 2, 1, ..., 4, 5, 6], dtype=uint8)"
      ]
     },
     "execution_count": 44,
     "metadata": {},
     "output_type": "execute_result"
    }
   ],
   "source": [
    "clf.predict(test_images)"
   ]
  },
  {
   "cell_type": "code",
   "execution_count": 45,
   "metadata": {},
   "outputs": [
    {
     "data": {
      "text/plain": [
       "0.9471"
      ]
     },
     "execution_count": 45,
     "metadata": {},
     "output_type": "execute_result"
    }
   ],
   "source": [
    "clf.score(test_images, test_labels)"
   ]
  },
  {
   "cell_type": "code",
   "execution_count": 62,
   "metadata": {},
   "outputs": [
    {
     "data": {
      "image/png": "[encoded data removed]",
      "text/plain": [
       "<matplotlib.figure.Figure at 0x7f55567c2ed0>"
      ]
     },
     "metadata": {},
     "output_type": "display_data"
    }
   ],
   "source": [
    "import matplotlib.pyplot as plt\n",
    "rng = np.random.RandomState(10)  # deterministic random data\n",
    "a = np.hstack((rng.normal(size=1000),\n",
    "                rng.normal(loc=5, scale=2, size=1000)))\n",
    "plt.hist(a, bins='auto',normed=True)  # arguments are passed to np.histogram\n",
    "plt.title(\"Histogram with 'auto' bins\")\n",
    "plt.show()"
   ]
  },
  {
   "cell_type": "code",
   "execution_count": 78,
   "metadata": {},
   "outputs": [
    {
     "name": "stdout",
     "output_type": "stream",
     "text": [
      "[0.1        0.         0.         0.26666667 0.63333333]\n"
     ]
    },
    {
     "data": {
      "text/plain": [
       "(array([2., 1., 0., 0., 1., 0., 0., 0., 0., 1.]),\n",
       " array([0.        , 0.06333333, 0.12666667, 0.19      , 0.25333333,\n",
       "        0.31666667, 0.38      , 0.44333333, 0.50666667, 0.57      ,\n",
       "        0.63333333]),\n",
       " <a list of 10 Patch objects>)"
      ]
     },
     "execution_count": 78,
     "metadata": {},
     "output_type": "execute_result"
    },
    {
     "data": {
      "image/png": "[encoded data removed]",
      "text/plain": [
       "<matplotlib.figure.Figure at 0x7f551ccdf7d0>"
      ]
     },
     "metadata": {},
     "output_type": "display_data"
    }
   ],
   "source": [
    "a = np.array([\n",
    "    [0.1,0.0,0.0,0.0,0.9],\n",
    "    [0.1,0.0,0.0,0.0,0.9],\n",
    "    [0.1,0.0,0.0,0.8,0.1]\n",
    "])\n",
    "print np.average(a,axis=0)\n",
    "plt.hist(np.average(a,axis=0))"
   ]
  },
  {
   "cell_type": "code",
   "execution_count": 68,
   "metadata": {},
   "outputs": [
    {
     "data": {
      "text/plain": [
       "(array([0, 2, 1]), array([0, 1, 2, 3]))"
      ]
     },
     "execution_count": 68,
     "metadata": {},
     "output_type": "execute_result"
    }
   ],
   "source": [
    "np.histogram([1, 2, 1], bins=[0, 1, 2, 3])"
   ]
  }
 ],
 "metadata": {
  "kernelspec": {
   "display_name": "Python 2",
   "language": "python",
   "name": "python2"
  },
  "language_info": {
   "codemirror_mode": {
    "name": "ipython",
    "version": 2
   },
   "file_extension": ".py",
   "mimetype": "text/x-python",
   "name": "python",
   "nbconvert_exporter": "python",
   "pygments_lexer": "ipython2",
   "version": "2.7.14"
  }
 },
 "nbformat": 4,
 "nbformat_minor": 2
}
